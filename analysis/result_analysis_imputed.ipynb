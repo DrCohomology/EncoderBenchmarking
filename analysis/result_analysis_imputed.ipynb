{
 "cells": [
  {
   "cell_type": "markdown",
   "source": [],
   "metadata": {
    "collapsed": false,
    "pycharm": {
     "name": "#%% md\n"
    }
   }
  },
  {
   "cell_type": "markdown",
   "source": [
    "# Reproduce the plots in the paper\n",
    "\n",
    "This notebook describes the steps necessary to analyze the experimental results and get the plots in the paper.\n",
    "_As some cells require hours to run, the pre-computed results are in a dedicated folder: `src.utils.RESULTS_DIR`. These cells are commented out, but you can uncomment them for full reproducibility._"
   ],
   "metadata": {
    "collapsed": false,
    "pycharm": {
     "name": "#%% md\n"
    }
   }
  },
  {
   "cell_type": "code",
   "execution_count": 1,
   "outputs": [],
   "source": [
    "import matplotlib as mpl\n",
    "import matplotlib.pyplot as plt\n",
    "import os\n",
    "import pandas as pd\n",
    "import seaborn as sns\n",
    "\n",
    "from functools import reduce\n",
    "\n",
    "import src.utils as u\n",
    "import src.rank_utils as ru\n",
    "import src.rank_metrics as rm\n",
    "\n",
    "u.ANALYSIS_DIR = u.BASE_DIR / \"analysis\" / \"analysis_results_imputed\"\n",
    "u.RANKINGS_DIR = u.ANALYSIS_DIR / \"Rankings\"\n",
    "\n",
    "os.chdir(\"..\")  # move kernel to EncoderBenchmarking"
   ],
   "metadata": {
    "collapsed": false,
    "pycharm": {
     "name": "#%%\n"
    }
   }
  },
  {
   "cell_type": "markdown",
   "source": [
    "# Results loading and imputation\n",
    "\n",
    "Load the merged results, stored in the `src.utils.RESULTS_DIR` directory (default: `experimental_results`).\n",
    "Missing ranks are imputed with the worst rank for each column + 1, meaning that if an encoder did not terminate for the column (combination of factors), it gets the worst rank.\n",
    "Missing evaluations are not imputed."
   ],
   "metadata": {
    "collapsed": false,
    "pycharm": {
     "name": "#%% md\n"
    }
   }
  },
  {
   "cell_type": "code",
   "execution_count": 2,
   "outputs": [],
   "source": [
    "df, rf = u.load_df_rf()"
   ],
   "metadata": {
    "collapsed": false,
    "pycharm": {
     "name": "#%%\n"
    }
   }
  },
  {
   "cell_type": "code",
   "execution_count": 3,
   "outputs": [],
   "source": [
    "# impute missing rankings\n",
    "rf = rf.fillna({col: rf[col].max()+1 for col in rf.columns})"
   ],
   "metadata": {
    "collapsed": false,
    "pycharm": {
     "name": "#%%\n"
    }
   }
  },
  {
   "cell_type": "markdown",
   "source": [
    "## Sensitivity analysis\n",
    "The relative performance of encoders can depend on an ML model, a quality metric, or a tuning strategy. The choice of an aggregation strategy impacts the consensus ranking.\n",
    "To quantify the influence of these choices, we calculate the similarity between rankings using the Jaccard index $J$ for the sets of best encoders as well as the Spearman correlation coefficient $\\rho$.\n",
    "For both measures, values close to 1 indicate high agreement between rankings and low sensitivity. Conversely, values near 0 (or, for $\\rho$, negative) suggest low consistency and high sensitivity.\n",
    "\n",
    "### Sensitivity to experimental factors\n",
    "We evaluate the sensitivity of encoder rankings on individual datasets with respect to an experimental factor (ML model, quality metric, or tuning strategy) by varying the factor of interest and keeping the other factors fixed, then calculating the similarity between pairs of rankings. After that, we average the result across all combinations of the other factors.\n",
    "Our findings highlight the high sensitivity of results of studies comparing encoders to experimental factors, for both the full rankings and the best encoders.\n",
    "They also explain why results from other studies are not comparable, as choosing different values for any factor will lead to different results."
   ],
   "metadata": {
    "collapsed": false,
    "pycharm": {
     "name": "#%% md\n"
    }
   }
  },
  {
   "cell_type": "code",
   "execution_count": 4,
   "outputs": [],
   "source": [
    "jaccard_model, rho_model = u.pairwise_similarity_wide_format(rf, simfuncs=[rm.jaccard_best, rm.spearman_rho],\n",
    "                                                             shared_levels=[0, 2, 3])\n",
    "jaccard_tuning, rho_tuning = u.pairwise_similarity_wide_format(rf, simfuncs=[rm.jaccard_best, rm.spearman_rho],\n",
    "                                                               shared_levels=[0, 1, 3])\n",
    "jaccard_scoring, rho_scoring = u.pairwise_similarity_wide_format(rf, simfuncs=[rm.jaccard_best, rm.spearman_rho],\n",
    "                                                                 shared_levels=[0, 1, 2])\n",
    "\n",
    "jaccard = reduce(lambda x, y: x.fillna(y), [jaccard_model, jaccard_tuning, jaccard_scoring])\n",
    "rho = reduce(lambda x, y: x.fillna(y), [rho_model, rho_tuning, rho_scoring])\n",
    "\n",
    "jaccard.to_parquet(u.ANALYSIS_DIR / \"pw_jaccard.parquet\")\n",
    "rho.to_parquet(u.ANALYSIS_DIR / \"pw_rho.parquet\")"
   ],
   "metadata": {
    "collapsed": false,
    "pycharm": {
     "name": "#%%\n"
    }
   }
  },
  {
   "cell_type": "markdown",
   "source": [
    "Plot the sensitivity of results to experimental factors."
   ],
   "metadata": {
    "collapsed": false,
    "pycharm": {
     "name": "#%% md\n"
    }
   }
  },
  {
   "cell_type": "code",
   "execution_count": 5,
   "outputs": [
    {
     "data": {
      "text/plain": "<Figure size 640x480 with 3 Axes>",
      "image/png": "[encoded data removed]"
     },
     "metadata": {},
     "output_type": "display_data"
    }
   ],
   "source": [
    "sims = u.load_similarity_dataframes()\n",
    "rho = sims[\"pw_rho\"]\n",
    "jaccard = sims[\"pw_jaccard\"]\n",
    "\n",
    "factors = [\"model\", \"tuning\", \"scoring\"]\n",
    "similarities = [\"rho\", \"jaccard\"]\n",
    "\n",
    "sns.set(font_scale=0.8)\n",
    "sns.set_style(\"ticks\")\n",
    "mpl.rcParams['text.usetex'] = True\n",
    "mpl.rcParams['text.latex.preamble'] = r'\\usepackage{mathptmx}'\n",
    "mpl.rc('font', family='Times New Roman')\n",
    "\n",
    "fig, axes = plt.subplots(1, len(factors))\n",
    "\n",
    "for ax, factor in zip(axes, factors):\n",
    "    df_sim = u.join_wide2long({\"jaccard\": jaccard, \"rho\": rho}, comparison_level=factor)\n",
    "    title = factor\n",
    "    u.heatmap_longformat_multisim(df_sim, similarities, factor, fontsize=8, annot_fontsize=8,\n",
    "                                  save_plot=False, show_plot=False, title=title, ax=ax)\n",
    "plt.show()"
   ],
   "metadata": {
    "collapsed": false,
    "pycharm": {
     "name": "#%%\n"
    }
   }
  },
  {
   "cell_type": "markdown",
   "source": [
    "### Sensitivity to aggregation strategy\n",
    "\n",
    "To evaluate the impact of the aggregation strategy on the consensus ranking, we apply the same procedure as above to consensus rankings instead of rankings on individual datasets.\n",
    "For example, Spearman's $\\rho$ between consensus rankings obtained with Q-M and Q-Md averaged across all ML models, tuning strategies, and quality metrics is 0.8.\n",
    "\n",
    "While some aggregation strategies show strong similarities, different strategies yield very different consensus rankings in general.\n",
    "This is particularly evident for Jaccard index $J$, indicating the high sensitivity of the best encoders to the rank aggregation strategy.\n",
    "\n",
    "We begin by computing the consensus rankings with different aggregation strategies, imputing missing values in a column with the worst rank+1 as for the original rankings."
   ],
   "metadata": {
    "collapsed": false,
    "pycharm": {
     "name": "#%% md\n"
    }
   }
  },
  {
   "cell_type": "code",
   "execution_count": 7,
   "outputs": [
    {
     "data": {
      "text/plain": "  0%|          | 0/36 [00:00<?, ?it/s]",
      "application/vnd.jupyter.widget-view+json": {
       "version_major": 2,
       "version_minor": 0,
       "model_id": "a7a33186754248abbca64aa529e1c9ec"
      },
      "application/json": {
       "n": 0,
       "total": 36,
       "elapsed": 0.009001970291137695,
       "ncols": null,
       "nrows": null,
       "prefix": "",
       "ascii": false,
       "unit": "it",
       "unit_scale": false,
       "rate": null,
       "bar_format": null,
       "postfix": null,
       "unit_divisor": 1000,
       "initial": 0,
       "colour": null
      }
     },
     "metadata": {},
     "output_type": "display_data"
    },
    {
     "data": {
      "text/plain": "  0%|          | 0/36 [00:00<?, ?it/s]",
      "application/vnd.jupyter.widget-view+json": {
       "version_major": 2,
       "version_minor": 0,
       "model_id": "db466530d6c34dd8b8930f76ff96ec63"
      },
      "application/json": {
       "n": 0,
       "total": 36,
       "elapsed": 0.005995988845825195,
       "ncols": null,
       "nrows": null,
       "prefix": "",
       "ascii": false,
       "unit": "it",
       "unit_scale": false,
       "rate": null,
       "bar_format": null,
       "postfix": null,
       "unit_divisor": 1000,
       "initial": 0,
       "colour": null
      }
     },
     "metadata": {},
     "output_type": "display_data"
    },
    {
     "data": {
      "text/plain": "  0%|          | 0/36 [00:00<?, ?it/s]",
      "application/vnd.jupyter.widget-view+json": {
       "version_major": 2,
       "version_minor": 0,
       "model_id": "90a4218223e04672be50842fab74c584"
      },
      "application/json": {
       "n": 0,
       "total": 36,
       "elapsed": 0.003020048141479492,
       "ncols": null,
       "nrows": null,
       "prefix": "",
       "ascii": false,
       "unit": "it",
       "unit_scale": false,
       "rate": null,
       "bar_format": null,
       "postfix": null,
       "unit_divisor": 1000,
       "initial": 0,
       "colour": null
      }
     },
     "metadata": {},
     "output_type": "display_data"
    },
    {
     "data": {
      "text/plain": "  0%|          | 0/36 [00:00<?, ?it/s]",
      "application/vnd.jupyter.widget-view+json": {
       "version_major": 2,
       "version_minor": 0,
       "model_id": "c5dc6c26bcfd401a9360bff544be0860"
      },
      "application/json": {
       "n": 0,
       "total": 36,
       "elapsed": 0.0030107498168945312,
       "ncols": null,
       "nrows": null,
       "prefix": "",
       "ascii": false,
       "unit": "it",
       "unit_scale": false,
       "rate": null,
       "bar_format": null,
       "postfix": null,
       "unit_divisor": 1000,
       "initial": 0,
       "colour": null
      }
     },
     "metadata": {},
     "output_type": "display_data"
    }
   ],
   "source": [
    "consensuses = list()\n",
    "\n",
    "# --- Aggregation for all aggregation strategies except Nemenyi\n",
    "consensuses.append(ru.Aggregator(df, rf).aggregate(verbose=True, ignore_strategies=[\"nemenyi rank\", \"kemeny rank\"]).aggrf)\n",
    "\n",
    "# --- Aggregation with Nemenyi with different significance levels\n",
    "for alpha in [0.01, 0.05, 0.1]:\n",
    "    consensuses.append(ru.Aggregator(df, rf).aggregate(verbose=True, strategies=[\"nemenyi rank\"], alpha=alpha).aggrf)\n",
    "\n",
    "aggrf = pd.concat(consensuses, axis=1)\n",
    "# impute missing rankings\n",
    "aggrf = aggrf.fillna({col: aggrf[col].max()+1 for col in aggrf.columns})\n",
    "aggrf.to_parquet(u.ANALYSIS_DIR / \"consensuses.parquet\")"
   ],
   "metadata": {
    "collapsed": false,
    "pycharm": {
     "name": "#%%\n"
    }
   }
  },
  {
   "cell_type": "markdown",
   "source": [
    "We then compute the similarity between different consensuses ..."
   ],
   "metadata": {
    "collapsed": false,
    "pycharm": {
     "name": "#%% md\n"
    }
   }
  },
  {
   "cell_type": "code",
   "execution_count": 8,
   "outputs": [],
   "source": [
    "aggrf = u.load_aggrf().rename(columns=u.AGGREGATION_NAMES, level=\"aggregation\")\n",
    "agg_jaccard, agg_rho = u.pairwise_similarity_wide_format(aggrf,\n",
    "                                                         simfuncs=[rm.jaccard_best,\n",
    "                                                                   rm.spearman_rho],\n",
    "                                                         shared_levels=slice(-1))\n",
    "\n",
    "agg_jaccard.to_parquet(u.ANALYSIS_DIR / \"pw_AGG_jaccard.parquet\")\n",
    "agg_rho.to_parquet(u.ANALYSIS_DIR / \"pw_AGG_rho.parquet\")"
   ],
   "metadata": {
    "collapsed": false,
    "pycharm": {
     "name": "#%%\n"
    }
   }
  },
  {
   "cell_type": "markdown",
   "source": [
    "... and finally plot it."
   ],
   "metadata": {
    "collapsed": false,
    "pycharm": {
     "name": "#%% md\n"
    }
   }
  },
  {
   "cell_type": "code",
   "execution_count": 9,
   "outputs": [
    {
     "data": {
      "text/plain": "<Figure size 300x330 with 1 Axes>",
      "image/png": "[encoded data removed]"
     },
     "metadata": {},
     "output_type": "display_data"
    }
   ],
   "source": [
    "aggsims = u.load_aggregated_similarity_dataframes()\n",
    "agg_jaccard = aggsims[\"pw_AGG_jaccard\"]\n",
    "agg_rho = aggsims[\"pw_AGG_rho\"]\n",
    "\n",
    "df_sim = u.join_wide2long({\"rho\": agg_rho, \"jaccard\": agg_jaccard}, comparison_level=\"aggregation\")\n",
    "\n",
    "sns.set_style(\"ticks\")\n",
    "mpl.rcParams['text.usetex'] = True\n",
    "mpl.rcParams['text.latex.preamble'] = r'\\usepackage{mathptmx}'\n",
    "mpl.rc('font', family='Times New Roman')\n",
    "\n",
    "fig, ax = plt.subplots(1, 1, figsize=(3, 3.3))\n",
    "u.heatmap_longformat_multisim(df_sim, [\"rho\", \"jaccard\"], \"aggregation\", fontsize=7, annot_fontsize=7,\n",
    "                              save_plot=False, show_plot=True, ax=ax, summary_statistic=\"mean\", title=None)"
   ],
   "metadata": {
    "collapsed": false,
    "pycharm": {
     "name": "#%%\n"
    }
   }
  },
  {
   "cell_type": "markdown",
   "source": [
    "## Replicability\n",
    "\n",
    "Replicability is the property of a benchmark of obtaining consistent results from different data. We quantify replicability by comparing consensus rankings aggregated on two disjoint samples of datasets of equal size.\n",
    "Each data point represents 100 iterations of randomly selecting two disjoint sets of datasets and applying multiple aggregation strategies. We exclude R-Kem due to its high computational complexity.\n",
    "Even with 25 datasets, replicability is moderate: this suggests that consensus rankings vary significantly depending on the data.\n",
    "Results from logistic regression tend to exhibit the highest replicability among ML models, while decision trees show the lowest.\n",
    "\n",
    "The next cells perform the replicability analysis and plot the results."
   ],
   "metadata": {
    "collapsed": false,
    "pycharm": {
     "name": "#%% md\n"
    }
   }
  },
  {
   "cell_type": "code",
   "execution_count": 14,
   "outputs": [
    {
     "data": {
      "text/plain": "  0%|          | 0/5 [00:00<?, ?it/s]",
      "application/vnd.jupyter.widget-view+json": {
       "version_major": 2,
       "version_minor": 0,
       "model_id": "22f8ea2387e44a63af5a04a1c4380b8a"
      },
      "application/json": {
       "n": 0,
       "total": 5,
       "elapsed": 0.021002531051635742,
       "ncols": null,
       "nrows": null,
       "prefix": "",
       "ascii": false,
       "unit": "it",
       "unit_scale": false,
       "rate": null,
       "bar_format": null,
       "postfix": null,
       "unit_divisor": 1000,
       "initial": 0,
       "colour": null
      }
     },
     "metadata": {},
     "output_type": "display_data"
    },
    {
     "data": {
      "text/plain": "  0%|          | 0/5 [00:00<?, ?it/s]",
      "application/vnd.jupyter.widget-view+json": {
       "version_major": 2,
       "version_minor": 0,
       "model_id": "c74a16a0a2e748b8848e51b84af4eb44"
      },
      "application/json": {
       "n": 0,
       "total": 5,
       "elapsed": 0.018991470336914062,
       "ncols": null,
       "nrows": null,
       "prefix": "",
       "ascii": false,
       "unit": "it",
       "unit_scale": false,
       "rate": null,
       "bar_format": null,
       "postfix": null,
       "unit_divisor": 1000,
       "initial": 0,
       "colour": null
      }
     },
     "metadata": {},
     "output_type": "display_data"
    },
    {
     "data": {
      "text/plain": "  0%|          | 0/5 [00:00<?, ?it/s]",
      "application/vnd.jupyter.widget-view+json": {
       "version_major": 2,
       "version_minor": 0,
       "model_id": "ed6cedef38e44607b09ad0fc48b93b46"
      },
      "application/json": {
       "n": 0,
       "total": 5,
       "elapsed": 0.002925872802734375,
       "ncols": null,
       "nrows": null,
       "prefix": "",
       "ascii": false,
       "unit": "it",
       "unit_scale": false,
       "rate": null,
       "bar_format": null,
       "postfix": null,
       "unit_divisor": 1000,
       "initial": 0,
       "colour": null
      }
     },
     "metadata": {},
     "output_type": "display_data"
    },
    {
     "data": {
      "text/plain": "  0%|          | 0/5 [00:00<?, ?it/s]",
      "application/vnd.jupyter.widget-view+json": {
       "version_major": 2,
       "version_minor": 0,
       "model_id": "71d9a230b58341d68fb266bafeb4ae0a"
      },
      "application/json": {
       "n": 0,
       "total": 5,
       "elapsed": 0.002979278564453125,
       "ncols": null,
       "nrows": null,
       "prefix": "",
       "ascii": false,
       "unit": "it",
       "unit_scale": false,
       "rate": null,
       "bar_format": null,
       "postfix": null,
       "unit_divisor": 1000,
       "initial": 0,
       "colour": null
      }
     },
     "metadata": {},
     "output_type": "display_data"
    },
    {
     "data": {
      "text/plain": "  0%|          | 0/5 [00:00<?, ?it/s]",
      "application/vnd.jupyter.widget-view+json": {
       "version_major": 2,
       "version_minor": 0,
       "model_id": "4358a8a3941f4a47a5b03cd5fc0f594e"
      },
      "application/json": {
       "n": 0,
       "total": 5,
       "elapsed": 0.003006458282470703,
       "ncols": null,
       "nrows": null,
       "prefix": "",
       "ascii": false,
       "unit": "it",
       "unit_scale": false,
       "rate": null,
       "bar_format": null,
       "postfix": null,
       "unit_divisor": 1000,
       "initial": 0,
       "colour": null
      }
     },
     "metadata": {},
     "output_type": "display_data"
    },
    {
     "data": {
      "text/plain": "  0%|          | 0/5 [00:00<?, ?it/s]",
      "application/vnd.jupyter.widget-view+json": {
       "version_major": 2,
       "version_minor": 0,
       "model_id": "fbd0e155d85c4ba0814ae7329b37b333"
      },
      "application/json": {
       "n": 0,
       "total": 5,
       "elapsed": 0.0029990673065185547,
       "ncols": null,
       "nrows": null,
       "prefix": "",
       "ascii": false,
       "unit": "it",
       "unit_scale": false,
       "rate": null,
       "bar_format": null,
       "postfix": null,
       "unit_divisor": 1000,
       "initial": 0,
       "colour": null
      }
     },
     "metadata": {},
     "output_type": "display_data"
    },
    {
     "data": {
      "text/plain": "  0%|          | 0/3 [00:00<?, ?it/s]",
      "application/vnd.jupyter.widget-view+json": {
       "version_major": 2,
       "version_minor": 0,
       "model_id": "ad74b5425fe0496f8747eb9e122779c9"
      },
      "application/json": {
       "n": 0,
       "total": 3,
       "elapsed": 0.003990650177001953,
       "ncols": null,
       "nrows": null,
       "prefix": "",
       "ascii": false,
       "unit": "it",
       "unit_scale": false,
       "rate": null,
       "bar_format": null,
       "postfix": null,
       "unit_divisor": 1000,
       "initial": 0,
       "colour": null
      }
     },
     "metadata": {},
     "output_type": "display_data"
    },
    {
     "data": {
      "text/plain": "  0%|          | 0/5 [00:00<?, ?it/s]",
      "application/vnd.jupyter.widget-view+json": {
       "version_major": 2,
       "version_minor": 0,
       "model_id": "c2ba38a92f1b41e399cf95fa733731a2"
      },
      "application/json": {
       "n": 0,
       "total": 5,
       "elapsed": 0.0029878616333007812,
       "ncols": null,
       "nrows": null,
       "prefix": "",
       "ascii": false,
       "unit": "it",
       "unit_scale": false,
       "rate": null,
       "bar_format": null,
       "postfix": null,
       "unit_divisor": 1000,
       "initial": 0,
       "colour": null
      }
     },
     "metadata": {},
     "output_type": "display_data"
    },
    {
     "data": {
      "text/plain": "  0%|          | 0/5 [00:00<?, ?it/s]",
      "application/vnd.jupyter.widget-view+json": {
       "version_major": 2,
       "version_minor": 0,
       "model_id": "7b62e947a66b4325949520fc317f189a"
      },
      "application/json": {
       "n": 0,
       "total": 5,
       "elapsed": 0.002942800521850586,
       "ncols": null,
       "nrows": null,
       "prefix": "",
       "ascii": false,
       "unit": "it",
       "unit_scale": false,
       "rate": null,
       "bar_format": null,
       "postfix": null,
       "unit_divisor": 1000,
       "initial": 0,
       "colour": null
      }
     },
     "metadata": {},
     "output_type": "display_data"
    },
    {
     "data": {
      "text/plain": "  0%|          | 0/5 [00:00<?, ?it/s]",
      "application/vnd.jupyter.widget-view+json": {
       "version_major": 2,
       "version_minor": 0,
       "model_id": "2ce04aa71b17440185a114fdea3402ed"
      },
      "application/json": {
       "n": 0,
       "total": 5,
       "elapsed": 0.007002353668212891,
       "ncols": null,
       "nrows": null,
       "prefix": "",
       "ascii": false,
       "unit": "it",
       "unit_scale": false,
       "rate": null,
       "bar_format": null,
       "postfix": null,
       "unit_divisor": 1000,
       "initial": 0,
       "colour": null
      }
     },
     "metadata": {},
     "output_type": "display_data"
    },
    {
     "data": {
      "text/plain": "  0%|          | 0/3 [00:00<?, ?it/s]",
      "application/vnd.jupyter.widget-view+json": {
       "version_major": 2,
       "version_minor": 0,
       "model_id": "3f09eb0c426348909e4d2048244024e0"
      },
      "application/json": {
       "n": 0,
       "total": 3,
       "elapsed": 0.003991603851318359,
       "ncols": null,
       "nrows": null,
       "prefix": "",
       "ascii": false,
       "unit": "it",
       "unit_scale": false,
       "rate": null,
       "bar_format": null,
       "postfix": null,
       "unit_divisor": 1000,
       "initial": 0,
       "colour": null
      }
     },
     "metadata": {},
     "output_type": "display_data"
    },
    {
     "data": {
      "text/plain": "  0%|          | 0/5 [00:00<?, ?it/s]",
      "application/vnd.jupyter.widget-view+json": {
       "version_major": 2,
       "version_minor": 0,
       "model_id": "71e9b6c885564640ae01b124ea78ff1f"
      },
      "application/json": {
       "n": 0,
       "total": 5,
       "elapsed": 0.004993438720703125,
       "ncols": null,
       "nrows": null,
       "prefix": "",
       "ascii": false,
       "unit": "it",
       "unit_scale": false,
       "rate": null,
       "bar_format": null,
       "postfix": null,
       "unit_divisor": 1000,
       "initial": 0,
       "colour": null
      }
     },
     "metadata": {},
     "output_type": "display_data"
    },
    {
     "data": {
      "text/plain": "  0%|          | 0/5 [00:00<?, ?it/s]",
      "application/vnd.jupyter.widget-view+json": {
       "version_major": 2,
       "version_minor": 0,
       "model_id": "d3b997a2341f48148c928cea876a637a"
      },
      "application/json": {
       "n": 0,
       "total": 5,
       "elapsed": 0.002996206283569336,
       "ncols": null,
       "nrows": null,
       "prefix": "",
       "ascii": false,
       "unit": "it",
       "unit_scale": false,
       "rate": null,
       "bar_format": null,
       "postfix": null,
       "unit_divisor": 1000,
       "initial": 0,
       "colour": null
      }
     },
     "metadata": {},
     "output_type": "display_data"
    },
    {
     "data": {
      "text/plain": "  0%|          | 0/5 [00:00<?, ?it/s]",
      "application/vnd.jupyter.widget-view+json": {
       "version_major": 2,
       "version_minor": 0,
       "model_id": "2e8f5984619645bdab03924092752260"
      },
      "application/json": {
       "n": 0,
       "total": 5,
       "elapsed": 0.003974199295043945,
       "ncols": null,
       "nrows": null,
       "prefix": "",
       "ascii": false,
       "unit": "it",
       "unit_scale": false,
       "rate": null,
       "bar_format": null,
       "postfix": null,
       "unit_divisor": 1000,
       "initial": 0,
       "colour": null
      }
     },
     "metadata": {},
     "output_type": "display_data"
    }
   ],
   "source": [
    "df, rf = u.load_df_rf()\n",
    "for tuning in [\"no\", \"model\", \"full\"]:\n",
    "    sample_sizes = [5, 10, 15]\n",
    "    if tuning == \"no\":\n",
    "        sample_sizes.extend([20, 25])\n",
    "    ru.replicability_analysis(df, rf, tuning, sample_sizes=sample_sizes, repetitions=5, append_to_existing=False, save=True)"
   ],
   "metadata": {
    "collapsed": false,
    "pycharm": {
     "name": "#%%\n"
    }
   }
  },
  {
   "cell_type": "code",
   "execution_count": null,
   "outputs": [],
   "source": [
    "u.lineplot_replicability(hue=\"model\", show=True)"
   ],
   "metadata": {
    "collapsed": false,
    "pycharm": {
     "name": "#%%\n"
    }
   }
  },
  {
   "cell_type": "markdown",
   "source": [
    "## Comparing encoders\n",
    "We now examine the ranks of encoders limited to decision trees, logistic regression, and all ML models.\n",
    "\n",
    "The left subplot shows the rank of encoders from the experiments with decision trees across all datasets, quality metrics, and tuning strategies.\n",
    "One-Hot is the best-performing encoder; however, Nemenyi tests at a significance level of 0.05 fail to reject that the average rank of One-Hot is the same as that of the other encoders.\n",
    "\n",
    "The central subplot features the encoder ranks for logistic regression, where four encoders, namely One-Hot, Sum, Binary, and Weight of Evidence, consistently achieve higher ranks compared to the others.\n",
    "Nemenyi tests confirm that this difference in ranks is significant.\n",
    "These results indicate low replicability of the results for decision trees and higher replicability for logistic regression.\n",
    "\n",
    "The right plot presents the ranks of encoders across all datasets, ML models, quality metrics, and tuning strategies.\n",
    "Similarly to logistic regression, One-Hot, Sum, Binary, and Weight of Evidence consistently achieve significantly higher average ranks compared to the other encoders, again confirmed by Nemenyi tests.\n",
    "We recommend these four encoders as the preferred choices in practical applications.\n",
    "This conclusion contradicts other studies reporting a suboptimal performance of One-Hot~\\cite{cerda_similarity_2018, pargent_regularized_2022}.\n",
    "\n",
    "Our findings also reveal that Drop performs significantly worse than all other encoders, i.e., encoding categorical attributes generally yields better results than dropping them."
   ],
   "metadata": {
    "collapsed": false,
    "pycharm": {
     "name": "#%% md\n"
    }
   }
  },
  {
   "cell_type": "code",
   "execution_count": null,
   "outputs": [],
   "source": [
    "rf = u.load_rf()\n",
    "models = [None, \"DTC\", \"LR\"]\n",
    "\n",
    "fig, axes = plt.subplots(1, len(models))\n",
    "for ax, model in zip(axes.flatten(), models):\n",
    "    u.boxplot_encoder_ranks(rf, ax, model)\n",
    "    ax.set_title(u.FACTOR_LATEX[\"model\"][model])\n",
    "sns.despine(left=True, trim=True)\n",
    "plt.tight_layout(w_pad=0.5)\n",
    "plt.show()"
   ],
   "metadata": {
    "collapsed": false,
    "pycharm": {
     "name": "#%%\n"
    }
   }
  },
  {
   "cell_type": "code",
   "execution_count": null,
   "outputs": [],
   "source": [],
   "metadata": {
    "collapsed": false,
    "pycharm": {
     "name": "#%%\n",
     "is_executing": true
    }
   }
  },
  {
   "cell_type": "code",
   "execution_count": null,
   "outputs": [],
   "source": [],
   "metadata": {
    "collapsed": false,
    "pycharm": {
     "name": "#%%\n",
     "is_executing": true
    }
   }
  },
  {
   "cell_type": "code",
   "execution_count": null,
   "outputs": [],
   "source": [],
   "metadata": {
    "collapsed": false,
    "pycharm": {
     "name": "#%%\n",
     "is_executing": true
    }
   }
  },
  {
   "cell_type": "code",
   "execution_count": null,
   "outputs": [],
   "source": [],
   "metadata": {
    "collapsed": false,
    "pycharm": {
     "name": "#%%\n"
    }
   }
  }
 ],
 "metadata": {
  "kernelspec": {
   "display_name": "Python 3",
   "language": "python",
   "name": "python3"
  },
  "language_info": {
   "codemirror_mode": {
    "name": "ipython",
    "version": 2
   },
   "file_extension": ".py",
   "mimetype": "text/x-python",
   "name": "python",
   "nbconvert_exporter": "python",
   "pygments_lexer": "ipython2",
   "version": "2.7.6"
  }
 },
 "nbformat": 4,
 "nbformat_minor": 0
}