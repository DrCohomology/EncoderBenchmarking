{
 "cells": [
  {
   "cell_type": "markdown",
   "source": [
    "This notebook describes the steps necessary to analyze the experimental results and get the plots and tables in the paper."
   ],
   "metadata": {
    "collapsed": false,
    "pycharm": {
     "name": "#%% md\n"
    }
   }
  },
  {
   "cell_type": "code",
   "execution_count": 8,
   "outputs": [],
   "source": [
    "import json\n",
    "import glob\n",
    "import matplotlib as mpl\n",
    "import matplotlib.pyplot as plt\n",
    "import numpy as np\n",
    "import pandas as pd\n",
    "import seaborn as sns\n",
    "\n",
    "from collections import defaultdict\n",
    "from functools import reduce\n",
    "from pathlib import Path\n",
    "from scipy.stats import kendalltau, iqr\n",
    "from scikit_posthocs import posthoc_nemenyi_friedman\n",
    "from tqdm import tqdm\n",
    "from typing import List, Union\n",
    "\n",
    "import src.encoders as e\n",
    "import src.utils as u\n",
    "import src.rank_utils as ru\n",
    "import src.rank_metrics as rm"
   ],
   "metadata": {
    "collapsed": false,
    "pycharm": {
     "name": "#%%\n"
    }
   }
  },
  {
   "cell_type": "markdown",
   "source": [
    "## Sensitivty on exerimental factors\n",
    "Here we compute the similarity matrices for sensitivity on experimental factors"
   ],
   "metadata": {
    "collapsed": false,
    "pycharm": {
     "name": "#%% md\n"
    }
   }
  },
  {
   "cell_type": "code",
   "execution_count": 9,
   "outputs": [
    {
     "name": "stderr",
     "output_type": "stream",
     "text": [
      "C:\\Users\\federicom\\Anaconda3\\lib\\site-packages\\scipy\\stats\\_stats_py.py:4878: ConstantInputWarning: An input array is constant; the correlation coefficient is not defined.\n",
      "  warnings.warn(stats.ConstantInputWarning(warn_msg))\n"
     ]
    },
    {
     "ename": "Exception",
     "evalue": "The following combinations gave problems: ('42343', 'DTC', 'no', 'ACC'), ('42343', 'SVC', 'no', 'ACC').The input must have at least 3 entries!",
     "output_type": "error",
     "traceback": [
      "\u001B[1;31m---------------------------------------------------------------------------\u001B[0m",
      "\u001B[1;31mValueError\u001B[0m                                Traceback (most recent call last)",
      "\u001B[1;32m~\\Documents\\GitHub\\EncoderBenchmarking\\src\\utils.py\u001B[0m in \u001B[0;36mpairwise_similarity_wide_format\u001B[1;34m(aggrf, simfuncs, shared_levels)\u001B[0m\n\u001B[0;32m    882\u001B[0m             \u001B[1;32mtry\u001B[0m\u001B[1;33m:\u001B[0m\u001B[1;33m\u001B[0m\u001B[1;33m\u001B[0m\u001B[0m\n\u001B[1;32m--> 883\u001B[1;33m                 \u001B[0mmat\u001B[0m\u001B[1;33m[\u001B[0m\u001B[0mi1\u001B[0m\u001B[1;33m,\u001B[0m \u001B[0mi2\u001B[0m\u001B[1;33m]\u001B[0m \u001B[1;33m=\u001B[0m \u001B[0msimfunc\u001B[0m\u001B[1;33m(\u001B[0m\u001B[0maggrf\u001B[0m\u001B[1;33m[\u001B[0m\u001B[0mcol1\u001B[0m\u001B[1;33m]\u001B[0m\u001B[1;33m,\u001B[0m \u001B[0maggrf\u001B[0m\u001B[1;33m[\u001B[0m\u001B[0mcol2\u001B[0m\u001B[1;33m]\u001B[0m\u001B[1;33m)\u001B[0m\u001B[1;33m\u001B[0m\u001B[1;33m\u001B[0m\u001B[0m\n\u001B[0m\u001B[0;32m    884\u001B[0m             \u001B[1;32mexcept\u001B[0m \u001B[0mException\u001B[0m \u001B[1;32mas\u001B[0m \u001B[0merror\u001B[0m\u001B[1;33m:\u001B[0m\u001B[1;33m\u001B[0m\u001B[1;33m\u001B[0m\u001B[0m\n",
      "\u001B[1;32m~\\Documents\\GitHub\\EncoderBenchmarking\\src\\rank_metrics.py\u001B[0m in \u001B[0;36mspearman_rho\u001B[1;34m(x, y, nan_policy)\u001B[0m\n\u001B[0;32m     41\u001B[0m         \u001B[1;32mwith\u001B[0m \u001B[0mwarnings\u001B[0m\u001B[1;33m.\u001B[0m\u001B[0mcatch_warnings\u001B[0m\u001B[1;33m(\u001B[0m\u001B[1;33m)\u001B[0m\u001B[1;33m:\u001B[0m\u001B[1;33m\u001B[0m\u001B[1;33m\u001B[0m\u001B[0m\n\u001B[1;32m---> 42\u001B[1;33m             \u001B[0mwarnings\u001B[0m\u001B[1;33m.\u001B[0m\u001B[0mfilterwarnings\u001B[0m\u001B[1;33m(\u001B[0m\u001B[1;34m\"ignore\"\u001B[0m\u001B[1;33m,\u001B[0m \u001B[0mcategory\u001B[0m\u001B[1;33m=\u001B[0m\u001B[0mConstantInputWarning\u001B[0m\u001B[1;33m)\u001B[0m\u001B[1;33m\u001B[0m\u001B[1;33m\u001B[0m\u001B[0m\n\u001B[0m\u001B[0;32m     43\u001B[0m             \u001B[1;32mreturn\u001B[0m \u001B[0mspearmanr\u001B[0m\u001B[1;33m(\u001B[0m\u001B[0mx\u001B[0m\u001B[1;33m,\u001B[0m \u001B[0my\u001B[0m\u001B[1;33m,\u001B[0m \u001B[0mnan_policy\u001B[0m\u001B[1;33m=\u001B[0m\u001B[0mnan_policy\u001B[0m\u001B[1;33m)\u001B[0m\u001B[1;33m[\u001B[0m\u001B[1;36m0\u001B[0m\u001B[1;33m]\u001B[0m\u001B[1;33m\u001B[0m\u001B[1;33m\u001B[0m\u001B[0m\n",
      "\u001B[1;32m~\\Anaconda3\\lib\\site-packages\\scipy\\stats\\_stats_py.py\u001B[0m in \u001B[0;36mspearmanr\u001B[1;34m(a, b, axis, nan_policy, alternative)\u001B[0m\n\u001B[0;32m   4890\u001B[0m         \u001B[1;32mif\u001B[0m \u001B[0mnan_policy\u001B[0m \u001B[1;33m==\u001B[0m \u001B[1;34m'omit'\u001B[0m\u001B[1;33m:\u001B[0m\u001B[1;33m\u001B[0m\u001B[1;33m\u001B[0m\u001B[0m\n\u001B[1;32m-> 4891\u001B[1;33m             return mstats_basic.spearmanr(a, axis=axis, nan_policy=nan_policy,\n\u001B[0m\u001B[0;32m   4892\u001B[0m                                           alternative=alternative)\n",
      "\u001B[1;32m~\\Anaconda3\\lib\\site-packages\\scipy\\stats\\_mstats_basic.py\u001B[0m in \u001B[0;36mspearmanr\u001B[1;34m(x, y, use_ties, axis, nan_policy, alternative)\u001B[0m\n\u001B[0;32m    658\u001B[0m     \u001B[1;32mif\u001B[0m \u001B[0mn_vars\u001B[0m \u001B[1;33m==\u001B[0m \u001B[1;36m2\u001B[0m\u001B[1;33m:\u001B[0m\u001B[1;33m\u001B[0m\u001B[1;33m\u001B[0m\u001B[0m\n\u001B[1;32m--> 659\u001B[1;33m         \u001B[1;32mreturn\u001B[0m \u001B[0m_spearmanr_2cols\u001B[0m\u001B[1;33m(\u001B[0m\u001B[0mx\u001B[0m\u001B[1;33m)\u001B[0m\u001B[1;33m\u001B[0m\u001B[1;33m\u001B[0m\u001B[0m\n\u001B[0m\u001B[0;32m    660\u001B[0m     \u001B[1;32melse\u001B[0m\u001B[1;33m:\u001B[0m\u001B[1;33m\u001B[0m\u001B[1;33m\u001B[0m\u001B[0m\n",
      "\u001B[1;32m~\\Anaconda3\\lib\\site-packages\\scipy\\stats\\_mstats_basic.py\u001B[0m in \u001B[0;36m_spearmanr_2cols\u001B[1;34m(x)\u001B[0m\n\u001B[0;32m    634\u001B[0m         \u001B[1;32mif\u001B[0m \u001B[0mdof\u001B[0m \u001B[1;33m<\u001B[0m \u001B[1;36m0\u001B[0m\u001B[1;33m:\u001B[0m\u001B[1;33m\u001B[0m\u001B[1;33m\u001B[0m\u001B[0m\n\u001B[1;32m--> 635\u001B[1;33m             \u001B[1;32mraise\u001B[0m \u001B[0mValueError\u001B[0m\u001B[1;33m(\u001B[0m\u001B[1;34m\"The input must have at least 3 entries!\"\u001B[0m\u001B[1;33m)\u001B[0m\u001B[1;33m\u001B[0m\u001B[1;33m\u001B[0m\u001B[0m\n\u001B[0m\u001B[0;32m    636\u001B[0m \u001B[1;33m\u001B[0m\u001B[0m\n",
      "\u001B[1;31mValueError\u001B[0m: The input must have at least 3 entries!",
      "\nDuring handling of the above exception, another exception occurred:\n",
      "\u001B[1;31mException\u001B[0m                                 Traceback (most recent call last)",
      "\u001B[1;32m~\\AppData\\Local\\Temp\\ipykernel_17812\\3016715339.py\u001B[0m in \u001B[0;36m<module>\u001B[1;34m\u001B[0m\n\u001B[0;32m      2\u001B[0m \u001B[1;33m\u001B[0m\u001B[0m\n\u001B[0;32m      3\u001B[0m \u001B[1;31m# sensitivity to change in model (everything else fixed)\u001B[0m\u001B[1;33m\u001B[0m\u001B[1;33m\u001B[0m\u001B[0m\n\u001B[1;32m----> 4\u001B[1;33m jaccard_model, rho_model = u.pairwise_similarity_wide_format(rf,\n\u001B[0m\u001B[0;32m      5\u001B[0m                                                              simfuncs=[rm.jaccard_best,\n\u001B[0;32m      6\u001B[0m                                                                        rm.spearman_rho],\n",
      "\u001B[1;32m~\\Documents\\GitHub\\EncoderBenchmarking\\src\\utils.py\u001B[0m in \u001B[0;36mpairwise_similarity_wide_format\u001B[1;34m(aggrf, simfuncs, shared_levels)\u001B[0m\n\u001B[0;32m    883\u001B[0m                 \u001B[0mmat\u001B[0m\u001B[1;33m[\u001B[0m\u001B[0mi1\u001B[0m\u001B[1;33m,\u001B[0m \u001B[0mi2\u001B[0m\u001B[1;33m]\u001B[0m \u001B[1;33m=\u001B[0m \u001B[0msimfunc\u001B[0m\u001B[1;33m(\u001B[0m\u001B[0maggrf\u001B[0m\u001B[1;33m[\u001B[0m\u001B[0mcol1\u001B[0m\u001B[1;33m]\u001B[0m\u001B[1;33m,\u001B[0m \u001B[0maggrf\u001B[0m\u001B[1;33m[\u001B[0m\u001B[0mcol2\u001B[0m\u001B[1;33m]\u001B[0m\u001B[1;33m)\u001B[0m\u001B[1;33m\u001B[0m\u001B[1;33m\u001B[0m\u001B[0m\n\u001B[0;32m    884\u001B[0m             \u001B[1;32mexcept\u001B[0m \u001B[0mException\u001B[0m \u001B[1;32mas\u001B[0m \u001B[0merror\u001B[0m\u001B[1;33m:\u001B[0m\u001B[1;33m\u001B[0m\u001B[1;33m\u001B[0m\u001B[0m\n\u001B[1;32m--> 885\u001B[1;33m                 \u001B[1;32mraise\u001B[0m \u001B[0mException\u001B[0m\u001B[1;33m(\u001B[0m\u001B[1;34mf\"The following combinations gave problems: {col1}, {col2}.{error}\"\u001B[0m\u001B[1;33m)\u001B[0m\u001B[1;33m\u001B[0m\u001B[1;33m\u001B[0m\u001B[0m\n\u001B[0m\u001B[0;32m    886\u001B[0m \u001B[1;33m\u001B[0m\u001B[0m\n\u001B[0;32m    887\u001B[0m         \u001B[1;31m# make symmetric and add diagonal\u001B[0m\u001B[1;33m\u001B[0m\u001B[1;33m\u001B[0m\u001B[0m\n",
      "\u001B[1;31mException\u001B[0m: The following combinations gave problems: ('42343', 'DTC', 'no', 'ACC'), ('42343', 'SVC', 'no', 'ACC').The input must have at least 3 entries!"
     ]
    }
   ],
   "source": [
    "df, rf = u.load_df_rf()\n",
    "\n",
    "# sensitivity to ML model (model), tuning strategy (tuning), and quality metric (scoring) respectively. The other factors are fixed.\n",
    "jaccard_model, rho_model = u.pairwise_similarity_wide_format(rf, simfuncs=[rm.jaccard_best, rm.spearman_rho], shared_levels=[0, 2, 3])\n",
    "jaccard_tuning, rho_tuning = u.pairwise_similarity_wide_format(rf, simfuncs=[rm.jaccard_best, rm.spearman_rho], shared_levels=[0, 1, 3])\n",
    "jaccard_scoring, rho_scoring = u.pairwise_similarity_wide_format(rf, simfuncs=[rm.jaccard_best, rm.spearman_rho], shared_levels=[0, 1, 2])\n",
    "\n",
    "jaccard = reduce(lambda x, y: x.fillna(y), [jaccard_model, jaccard_tuning, jaccard_scoring])\n",
    "rho = reduce(lambda x, y: x.fillna(y), [rho_model, rho_tuning, rho_scoring])\n",
    "\n",
    "jaccard.to_csv(u.RANKINGS_DIR / \"pw_jaccard.csv\")\n",
    "rho.to_csv(u.RANKINGS_DIR / \"pw_rho.csv\")"
   ],
   "metadata": {
    "collapsed": false,
    "pycharm": {
     "name": "#%%\n"
    }
   }
  },
  {
   "cell_type": "markdown",
   "source": [
    "And now we can plot it"
   ],
   "metadata": {
    "collapsed": false,
    "pycharm": {
     "name": "#%% md\n"
    }
   }
  },
  {
   "cell_type": "code",
   "execution_count": null,
   "outputs": [],
   "source": [
    "sims = u.load_similarity_dataframes()\n",
    "rho = sims[\"pw_rho.csv\"]\n",
    "jaccard = sims[\"jaccard.csv\"]\n",
    "\n",
    "factors = [\"model\", \"tuning\", \"scoring\"]\n",
    "similarities = [\"rho\", \"agrbest\"]\n",
    "\n",
    "sns.set(font_scale=0.8)\n",
    "sns.set_style(\"ticks\")\n",
    "mpl.rcParams['text.usetex'] = True\n",
    "mpl.rcParams['text.latex.preamble'] = r'\\usepackage{mathptmx}'\n",
    "mpl.rc('font', family='Times New Roman')\n",
    "\n",
    "for factor in factors:\n",
    "    df_sim = u.join_wide2long({\"jaccard\": jaccard, \"rho\": rho}, comparison_level=factor)\n",
    "    title = None\n",
    "    if factor == \"model\":\n",
    "        # figsize = (1.8, 2)\n",
    "        # title = \"(b) ML model\"\n",
    "        figsize = (1.8, 1.8)\n",
    "    elif factor == \"tuning\":\n",
    "        # figsize = (2.3, 1.2)\n",
    "        # title = \"(c) Tuning strategy\"\n",
    "        # tx = -1.5\n",
    "        # ty = 0.35\n",
    "        # adjust_left = 0.6\n",
    "        # adjust_right = 1\n",
    "        figsize = (1.2, 1.2)\n",
    "\n",
    "    elif factor == \"scoring\":\n",
    "        # figsize = (2.0, 1.1)\n",
    "        # title = \"(d) Scoring\"\n",
    "        # tx = -1.5\n",
    "        # ty = 0.35\n",
    "        # adjust_left = 0.7\n",
    "        # adjust_right = 1\n",
    "        figsize = (1.1, 1.1)\n",
    "\n",
    "    else:\n",
    "        raise AssertionError(\"Issue\")\n",
    "\n",
    "    u.heatmap_longformat_multisim(df_sim, similarities, factor, fontsize=8, annot_fontsize=8,\n",
    "                                  figsize=figsize,\n",
    "                                  save_plot=True, show_plot=True, title=title,)\n",
    "                                  # tx=tx, ty=ty, adjust_left=adjust_left, adjust_right=adjust_right)\n"
   ],
   "metadata": {
    "collapsed": false,
    "pycharm": {
     "name": "#%%\n"
    }
   }
  },
  {
   "cell_type": "markdown",
   "source": [
    "### Interpretation sensitivity\n",
    "\n",
    "First compute aggregations"
   ],
   "metadata": {
    "collapsed": false,
    "pycharm": {
     "name": "#%% md\n"
    }
   }
  },
  {
   "cell_type": "code",
   "execution_count": null,
   "outputs": [],
   "source": [
    "run = False\n",
    "if run:\n",
    "    a = ru.Aggregator(df, rf)\n",
    "    a.aggregate(verbose=True, ignore_strategies=[\"nemenyi rank\", \"kemeny rank\"])\n",
    "    a.to_csv(u.RANKINGS_DIR / \"tmp\" / \"aggregated_ranks_from_average_cv_score_no_nemenyi_no_kemeny.csv\")\n",
    "\n",
    "# --- Kemeny aggregation is the bottleneck aggregation\n",
    "run_kemeny = False\n",
    "if run_kemeny:\n",
    "    a = ru.Aggregator(df, rf)\n",
    "    a.aggregate(verbose=True, strategies=[\"kemeny rank\"])\n",
    "    a.to_csv(u.RANKINGS_DIR / \"tmp\" / \"aggregated_ranks_from_average_cv_score_kemeny.csv\")\n",
    "\n",
    "# --- Test multiple alphas, then concatenate everything together\n",
    "run_nemenyi = False\n",
    "if run_nemenyi:\n",
    "    for alpha in [0.01, 0.05, 0.1]:\n",
    "        a = ru.Aggregator(df, rf)\n",
    "        a.aggregate(verbose=True, strategies=[\"nemenyi rank\"], alpha=alpha)\n",
    "        a.to_csv(u.RANKINGS_DIR / \"tmp\" / f\"aggregate_ranks_from_average_cv_score_nemenyi_{alpha}.csv\")\n",
    "\n",
    "concatenate = False\n",
    "if concatenate:\n",
    "    aggrf = pd.read_csv(u.RANKINGS_DIR / \"tmp\" / \"aggregated_ranks_from_average_cv_score_no_nemenyi_no_kemeny.csv\", index_col=0,\n",
    "                        header=[0, 1, 2, 3])\n",
    "    agg_nemenyi = [aggrf]\n",
    "    for alpha in [0.01, 0.05, 0.1]:\n",
    "        agg_nemenyi.append(\n",
    "            pd.read_csv(u.RANKINGS_DIR / \"tmp\" / f\"aggregate_ranks_from_average_cv_score_nemenyi_{alpha}.csv\",\n",
    "                        index_col=0, header=[0, 1, 2, 3]))\n",
    "    agg_kemeny = [\n",
    "        pd.read_csv(u.RANKINGS_DIR / \"tmp\" / f\"aggregated_ranks_from_average_cv_score_kemeny.csv\",\n",
    "                    index_col=0, header=[0, 1, 2, 3])\n",
    "    ]\n",
    "\n",
    "    aggrf = pd.concat(agg_nemenyi + agg_kemeny, axis=1)\n",
    "    aggrf.to_csv(u.RANKINGS_DIR / \"aggregated_ranks_from_average_cv_score.csv\")"
   ],
   "metadata": {
    "collapsed": false,
    "pycharm": {
     "name": "#%%\n"
    }
   }
  },
  {
   "cell_type": "markdown",
   "source": [
    "Then, compute similarity between aggregations"
   ],
   "metadata": {
    "collapsed": false,
    "pycharm": {
     "name": "#%% md\n"
    }
   }
  },
  {
   "cell_type": "code",
   "execution_count": null,
   "outputs": [],
   "source": [
    "aggrf = u.load_aggrf().rename(columns=u.AGGREGATION_NAMES, level=\"aggregation\")\n",
    "agg_jaccard, agg_rho = u.pairwise_similarity_wide_format(aggrf,\n",
    "                                                         simfuncs=[rm.jaccard_best,\n",
    "                                                                   rm.spearman_rho],\n",
    "                                                         shared_levels=slice(-1))\n",
    "\n",
    "agg_jaccard.to_csv(u.RANKINGS_DIR / \"pw_AGG_jaccard.csv\")\n",
    "agg_rho.to_csv(u.RANKINGS_DIR / \"pw_AGG_rho.csv\")"
   ],
   "metadata": {
    "collapsed": false,
    "pycharm": {
     "name": "#%%\n"
    }
   }
  },
  {
   "cell_type": "markdown",
   "source": [
    "And finally plot it"
   ],
   "metadata": {
    "collapsed": false,
    "pycharm": {
     "name": "#%% md\n"
    }
   }
  },
  {
   "cell_type": "code",
   "execution_count": null,
   "outputs": [],
   "source": [
    "aggsims = u.load_agg_similarities()\n",
    "agg_jaccard = aggsims[\"pw_AGG_jaccard.csv\"]\n",
    "agg_rho = aggsims[\"pw_AGG_rho.csv\"]\n",
    "\n",
    "df_sim = u.join_wide2long({\"rho\": agg_rho, \"jaccard\": agg_jaccard}, comparison_level=\"aggregation\")\n",
    "\n",
    "sns.set_style(\"ticks\")\n",
    "mpl.rcParams['text.usetex'] = True\n",
    "mpl.rcParams['text.latex.preamble'] = r'\\usepackage{mathptmx}'\n",
    "mpl.rc('font', family='Times New Roman')\n",
    "\n",
    "fig, ax = plt.subplots(1, 1, figsize=(3, 3.3))\n",
    "u.heatmap_longformat_multisim(df_sim, [\"rho\", \"jaccard\"], \"aggregation\", fontsize=7, annot_fontsize=7,\n",
    "                              save_plot=True, show_plot=True, ax=ax, summary_statistic=\"mean\", title=None)"
   ],
   "metadata": {
    "collapsed": false,
    "pycharm": {
     "name": "#%%\n"
    }
   }
  },
  {
   "cell_type": "markdown",
   "source": [
    "### Replicability\n",
    "\n",
    "Replicability is compute by sampling two disjoint sets of datasets, aggregating on those subsets, and finally computing the similarity of hte two consensuses. This process is repeated for various sample sizes 100 each.\n",
    "We do not use Kemeny aggregatio as it taks a long time. Results are for different tuning as the number of datasets differs.\n",
    "Perfect replicability is 1.\n"
   ],
   "metadata": {
    "collapsed": false,
    "pycharm": {
     "name": "#%% md\n"
    }
   }
  },
  {
   "cell_type": "code",
   "execution_count": null,
   "outputs": [],
   "source": [
    "df, rf = u.load_df_rf()\n",
    "\n",
    "tuning = \"no\"\n",
    "df_ = df.query(\"tuning == @tuning\")\n",
    "rf_ = rf.loc(axis=1)[:, :, tuning, :].copy()\n",
    "\n",
    "sample_df_sim = u.load_sample_similarity_dataframe(tuning=tuning)\n",
    "run = True\n",
    "if run:\n",
    "    # whenever we add experiments, start from the value of seed\n",
    "    seed = 0\n",
    "    sample_sizes = [5, 10, 15, 20, 25]\n",
    "    repetitions = 20\n",
    "    mat_corrs = []\n",
    "    sample_aggregators = defaultdict(lambda: [])\n",
    "    for sample_size in tqdm(sample_sizes):\n",
    "        inner_mat_corrs = []\n",
    "        inner_sample_aggregators = []\n",
    "        for _ in tqdm(range(repetitions)):\n",
    "            seed += 1\n",
    "            a = ru.SampleAggregator(df_, rf_, sample_size, seed=seed, bootstrap=True).aggregate(ignore_strategies=[\"kemeny rank\"],\n",
    "                                                                                                verbose=False)\n",
    "\n",
    "            tmp_jaccard, tmp_rho = u.pairwise_similarity_wide_format(a.aggrf,\n",
    "                                                                     simfuncs=[rm.jaccard_best,\n",
    "                                                                               rm.spearman_rho])\n",
    "            agg_sample_long = u.join_wide2long(dict(zip([\"jaccard\", \"rho\"],\n",
    "                                                        [tmp_jaccard, tmp_rho])),\n",
    "                                               comparison_level=\"sample\")\n",
    "\n",
    "            inner_mat_corrs.append(agg_sample_long.assign(sample_size=sample_size).query(\"sample_1 < sample_2\"))\n",
    "            sample_aggregators[sample_size].append(a)\n",
    "        mat_corrs.append(pd.concat(inner_mat_corrs, axis=0))\n",
    "    # if mat_corr is already defined, make it bigger! We are adding experiments\n",
    "    mat_corr = pd.concat(mat_corrs, axis=0)\n",
    "    mat_corr = mat_corr.join(\n",
    "        mat_corr.groupby([\"aggregation\", \"sample_size\"])[[\"jaccard\", \"rho\"]].std(),\n",
    "        on=[\"aggregation\", \"sample_size\"], rsuffix=\"_std\")\n",
    "    sample_df_sim = pd.concat([sample_df_sim, mat_corr], axis=0)\n",
    "\n",
    "# rename to AGGREGATION_NAMES but allow correctly formatted names\n",
    "sample_df_sim.aggregation = sample_df_sim.aggregation.map(lambda x: defaultdict(lambda: x, u.AGGREGATION_NAMES)[x])\n",
    "sample_df_sim.to_csv(u.RANKINGS_DIR / f\"sample_sim_{tuning}.csv\", index=False)"
   ],
   "metadata": {
    "collapsed": false,
    "pycharm": {
     "name": "#%%\n"
    }
   }
  },
  {
   "cell_type": "markdown",
   "source": [
    "And finally plot everything!"
   ],
   "metadata": {
    "collapsed": false,
    "pycharm": {
     "name": "#%% md\n"
    }
   }
  },
  {
   "cell_type": "code",
   "execution_count": null,
   "outputs": [],
   "source": [
    "sns.set(font_scale=0.8)\n",
    "sns.set_style(\"ticks\")\n",
    "mpl.rcParams['text.usetex'] = True\n",
    "mpl.rcParams['text.latex.preamble'] = r'\\usepackage{mathptmx}'\n",
    "mpl.rc('font', family='Times New Roman')\n",
    "\n",
    "fig = plt.figure(figsize=(5.5, 3))\n",
    "gs = fig.add_gridspec(2, 3)\n",
    "\n",
    "hue = \"interpretation\"\n",
    "\n",
    "for isim, sim in enumerate([\"rho\", \"agrbest\"]):\n",
    "    for itun, tuning in enumerate([\"no\", \"model\", \"full\"]):\n",
    "        sample_df_sim = u.load_sample_similarity_dataframe(tuning=tuning)\n",
    "\n",
    "        xb = (sim == \"agrbest\")\n",
    "        yl = (tuning == \"no\")\n",
    "\n",
    "        with sns.axes_style(\"ticks\", {\"xtick.bottom\": True, \"ytick.left\": True}):\n",
    "            ax = fig.add_subplot(gs[isim, itun])\n",
    "\n",
    "            u.lineplot_longformat_sample_sim(sample_df_sim, similarity=sim, save_plot=False, show_plot=False,\n",
    "                                             hue=hue,\n",
    "                                             estimator=\"mean\",\n",
    "                                             ax=ax,\n",
    "                                             )\n",
    "        if not xb:\n",
    "            ax.set_xlabel(None)\n",
    "            ax.set_xticklabels([])\n",
    "        if not yl:\n",
    "            ax.set_ylabel(None)\n",
    "            ax.set_yticklabels([])\n",
    "\n",
    "        ax.grid(axis=\"y\", zorder=-1, linewidth=0.4)\n",
    "\n",
    "        if tuning == \"no\":\n",
    "            handles, labels = ax.get_legend_handles_labels()\n",
    "\n",
    "        ax.legend().remove()\n",
    "\n",
    "        if sim == \"rho\":\n",
    "            ax.set_title(f\"{tuning} tuning\")\n",
    "\n",
    "    plt.tight_layout(w_pad=3, h_pad=1)\n",
    "\n",
    "    ## hue = model\n",
    "    # plt.subplots_adjust(top=0.86)\n",
    "    # plt.figlegend(\n",
    "    #     handles=handles,\n",
    "    #     labels=labels,\n",
    "    #     bbox_to_anchor=(0, 0.86+0.02, 1, 0.2),\n",
    "    #     loc=\"lower left\",\n",
    "    #     mode=\"expand\",\n",
    "    #     borderaxespad=1,\n",
    "    #     ncol=5,\n",
    "    #     frameon=False\n",
    "    # )\n",
    "\n",
    "    ## hue = interpretation\n",
    "    plt.subplots_adjust(top=0.8)\n",
    "    plt.figlegend(\n",
    "        handles=handles,\n",
    "        labels=labels,\n",
    "        bbox_to_anchor=(0, 0.8+0.02, 1, 0.2),\n",
    "        loc=\"lower left\",\n",
    "        mode=\"expand\",\n",
    "        borderaxespad=1,\n",
    "        ncol=5,\n",
    "        frameon=False\n",
    "    )\n",
    "\n",
    "    # hue = scoring\n",
    "    # plt.subplots_adjust(top=0.86)\n",
    "    # plt.figlegend(\n",
    "    #     handles=handles,\n",
    "    #     labels=labels,\n",
    "    #     bbox_to_anchor=(0, 0.86+0.02, 1, 0.2),\n",
    "    #     loc=\"lower center\",\n",
    "    #     # mode=\"expand\",\n",
    "    #     borderaxespad=1,\n",
    "    #     ncol=3,\n",
    "    #     frameon=False\n",
    "    # )\n",
    "\n",
    "sns.despine(trim=True)"
   ],
   "metadata": {
    "collapsed": false,
    "pycharm": {
     "name": "#%%\n"
    }
   }
  },
  {
   "cell_type": "markdown",
   "source": [
    "## Rank of encoders\n"
   ],
   "metadata": {
    "collapsed": false,
    "pycharm": {
     "name": "#%% md\n"
    }
   }
  },
  {
   "cell_type": "code",
   "execution_count": null,
   "outputs": [],
   "source": [
    "rf = u.load_rf()\n",
    "\n",
    "rf_melt = rf.melt(ignore_index=False).reset_index()\n",
    "rf_melt.columns = [\"encoder\", \"dataset\", \"model\", \"tuning\", \"scoring\", \"rank\"]\n",
    "rf_melt.encoder = rf_melt.encoder.map(u.ENCODER_LATEX)\n",
    "\n",
    "sns.set(font_scale=0.8)\n",
    "sns.set_style(\"ticks\", {\"ytick.left\": False})\n",
    "mpl.rcParams['text.usetex'] = True\n",
    "mpl.rcParams['text.latex.preamble'] = r'\\usepackage{mathptmx}'\n",
    "mpl.rc('font', family='Times New Roman')\n",
    "\n",
    "\n",
    "fig, ax = plt.subplots(1, 1, figsize=(1.8, 4.4))\n",
    "ax = u.sorted_boxplot_horizontal(data=rf_melt, y=\"encoder\", x=\"rank\", order_by=\"mean\",\n",
    "                                 # palette=sns.light_palette(\"grey\", n_colors=len(rf.index)),\n",
    "                                 color=\"lightgrey\",\n",
    "                                 showfliers=False,\n",
    "                                 linewidth=1, showcaps=False,\n",
    "                                 showmeans=True,\n",
    "                                 meanprops={\"marker\": \"o\",\n",
    "                                            \"markeredgecolor\": \"red\",\n",
    "                                            \"markersize\": 2},\n",
    "                                 medianprops={\"linestyle\": \"-\"\n",
    "                                 },\n",
    "                                 ax=ax)\n",
    "ax.set(xlabel=None, ylabel=None)\n",
    "ax.set_xlim(0, 32)\n",
    "ax.set_xticks([0, 10, 20, 30])\n",
    "ax.grid(axis=\"x\", zorder=-1, linewidth=0.4)\n",
    "# ax.set_title(\"(c) All models\")\n",
    "\n",
    "sns.despine(left=True, trim=True)\n",
    "plt.tight_layout(w_pad=0.5)"
   ],
   "metadata": {
    "collapsed": false,
    "pycharm": {
     "name": "#%%\n"
    }
   }
  },
  {
   "cell_type": "markdown",
   "source": [
    "rf = u.load_rf()\n",
    "\n",
    "model = \"KNC\"\n",
    "rf = rf.loc(axis=1)[:, model, :, :]\n",
    "\n",
    "rf_melt = rf.melt(ignore_index=False).reset_index()\n",
    "rf_melt.columns = [\"encoder\", \"dataset\", \"model\", \"tuning\", \"scoring\", \"rank\"]\n",
    "rf_melt.encoder = rf_melt.encoder.map(u.ENCODER_LATEX)\n",
    "\n",
    "sns.set(font_scale=0.8)\n",
    "sns.set_style(\"ticks\", {\"ytick.left\": False})\n",
    "mpl.rcParams['text.usetex'] = True\n",
    "mpl.rcParams['text.latex.preamble'] = r'\\usepackage{mathptmx}'\n",
    "mpl.rc('font', family='Times New Roman')\n",
    "\n",
    "\n",
    "fig, ax = plt.subplots(1, 1, figsize=(1.8, 4.4))\n",
    "ax = u.sorted_boxplot_horizontal(data=rf_melt, y=\"encoder\", x=\"rank\", order_by=\"mean\",\n",
    "                                 # palette=sns.light_palette(\"grey\", n_colors=len(rf.index)),\n",
    "                                 color=\"lightgrey\",\n",
    "                                 showfliers=False,\n",
    "                                 linewidth=1, showcaps=False,\n",
    "                                 showmeans=True,\n",
    "                                 meanprops={\"marker\": \"o\",\n",
    "                                            \"markeredgecolor\": \"red\",\n",
    "                                            \"markersize\": 2},\n",
    "                                 medianprops={\"linestyle\": \"-\"\n",
    "                                 },\n",
    "                                 ax=ax)\n",
    "ax.set(xlabel=None, ylabel=None)\n",
    "ax.set_xlim(0, 32)\n",
    "ax.set_xticks([0, 10, 20, 30])\n",
    "ax.grid(axis=\"x\", zorder=-1, linewidth=0.4)\n",
    "\n",
    "sns.despine(left=True, trim=True)\n",
    "plt.tight_layout(w_pad=0.5)"
   ],
   "metadata": {
    "collapsed": false,
    "pycharm": {
     "name": "#%% md\n"
    }
   }
  }
 ],
 "metadata": {
  "kernelspec": {
   "display_name": "Python 3",
   "language": "python",
   "name": "python3"
  },
  "language_info": {
   "codemirror_mode": {
    "name": "ipython",
    "version": 2
   },
   "file_extension": ".py",
   "mimetype": "text/x-python",
   "name": "python",
   "nbconvert_exporter": "python",
   "pygments_lexer": "ipython2",
   "version": "2.7.6"
  }
 },
 "nbformat": 4,
 "nbformat_minor": 0
}