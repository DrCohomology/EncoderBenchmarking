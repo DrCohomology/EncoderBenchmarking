{
 "cells": [
  {
   "cell_type": "markdown",
   "source": [
    "This notebook describes the steps necessary to analyze the experimental results and get the plots and tables in the paper. Every cell can be run independently, as the computed data is stored in a temporary directory."
   ],
   "metadata": {
    "collapsed": false,
    "pycharm": {
     "name": "#%% md\n"
    }
   }
  },
  {
   "cell_type": "code",
   "execution_count": 1,
   "outputs": [],
   "source": [
    "import matplotlib as mpl\n",
    "import matplotlib.pyplot as plt\n",
    "import pandas as pd\n",
    "import seaborn as sns\n",
    "\n",
    "from collections import defaultdict\n",
    "from functools import reduce\n",
    "from tqdm import tqdm\n",
    "\n",
    "import src.utils as u\n",
    "import src.rank_utils as ru\n",
    "import src.rank_metrics as rm"
   ],
   "metadata": {
    "collapsed": false,
    "pycharm": {
     "name": "#%%\n"
    }
   }
  },
  {
   "cell_type": "markdown",
   "source": [
    "## Sensitivty to exerimental factors\n",
    "Here we compute the similarity matrices for sensitivity to experimental factors"
   ],
   "metadata": {
    "collapsed": false,
    "pycharm": {
     "name": "#%% md\n"
    }
   }
  },
  {
   "cell_type": "code",
   "execution_count": 2,
   "outputs": [],
   "source": [
    "df, rf = u.load_df_rf()\n",
    "\n",
    "# sensitivity to ML model (model), tuning strategy (tuning), and quality metric (scoring) respectively. The other factors are fixed.\n",
    "jaccard_model, rho_model = u.pairwise_similarity_wide_format(rf, simfuncs=[rm.jaccard_best, rm.spearman_rho],\n",
    "                                                             shared_levels=[0, 2, 3])\n",
    "jaccard_tuning, rho_tuning = u.pairwise_similarity_wide_format(rf, simfuncs=[rm.jaccard_best, rm.spearman_rho],\n",
    "                                                               shared_levels=[0, 1, 3])\n",
    "jaccard_scoring, rho_scoring = u.pairwise_similarity_wide_format(rf, simfuncs=[rm.jaccard_best, rm.spearman_rho],\n",
    "                                                                 shared_levels=[0, 1, 2])\n",
    "\n",
    "jaccard = reduce(lambda x, y: x.fillna(y), [jaccard_model, jaccard_tuning, jaccard_scoring])\n",
    "rho = reduce(lambda x, y: x.fillna(y), [rho_model, rho_tuning, rho_scoring])\n",
    "\n",
    "jaccard.to_csv(u.RANKINGS_DIR / \"pw_jaccard.csv\")\n",
    "rho.to_csv(u.RANKINGS_DIR / \"pw_rho.csv\")"
   ],
   "metadata": {
    "collapsed": false,
    "pycharm": {
     "name": "#%%\n"
    }
   }
  },
  {
   "cell_type": "markdown",
   "source": [
    "And now we can plot it"
   ],
   "metadata": {
    "collapsed": false,
    "pycharm": {
     "name": "#%% md\n"
    }
   }
  },
  {
   "cell_type": "code",
   "execution_count": 11,
   "outputs": [
    {
     "data": {
      "text/plain": "<Figure size 180x180 with 1 Axes>",
      "image/png": "[encoded data removed]"
     },
     "metadata": {},
     "output_type": "display_data"
    },
    {
     "data": {
      "text/plain": "<Figure size 120x120 with 1 Axes>",
      "image/png": "[encoded data removed]"
     },
     "metadata": {},
     "output_type": "display_data"
    },
    {
     "data": {
      "text/plain": "<Figure size 110x110 with 1 Axes>",
      "image/png": "[encoded data removed]"
     },
     "metadata": {},
     "output_type": "display_data"
    }
   ],
   "source": [
    "sims = u.load_similarity_dataframes()\n",
    "rho = sims[\"pw_rho.csv\"]\n",
    "jaccard = sims[\"pw_jaccard.csv\"]\n",
    "\n",
    "factors = [\"model\", \"tuning\", \"scoring\"]\n",
    "similarities = [\"rho\", \"jaccard\"]\n",
    "\n",
    "sns.set(font_scale=0.8)\n",
    "sns.set_style(\"ticks\")\n",
    "mpl.rcParams['text.usetex'] = True\n",
    "mpl.rcParams['text.latex.preamble'] = r'\\usepackage{mathptmx}'\n",
    "mpl.rc('font', family='Times New Roman')\n",
    "\n",
    "for factor in factors:\n",
    "    df_sim = u.join_wide2long({\"jaccard\": jaccard, \"rho\": rho}, comparison_level=factor)\n",
    "    title = None\n",
    "    if factor == \"model\":\n",
    "        figsize = (1.8, 1.8)\n",
    "    elif factor == \"tuning\":\n",
    "        figsize = (1.2, 1.2)\n",
    "    elif factor == \"scoring\":\n",
    "        figsize = (1.1, 1.1)\n",
    "    else:\n",
    "        raise AssertionError(f\"{factor} is an invalid factor.\")\n",
    "\n",
    "    u.heatmap_longformat_multisim(df_sim, similarities, factor, fontsize=8, annot_fontsize=8,\n",
    "                                  figsize=figsize,\n",
    "                                  save_plot=False, show_plot=True, title=title,)\n",
    "\n",
    "plt.show()"
   ],
   "metadata": {
    "collapsed": false,
    "pycharm": {
     "name": "#%%\n"
    }
   }
  },
  {
   "cell_type": "markdown",
   "source": [
    "### Interpretation sensitivity\n",
    "\n",
    "First compute aggregations"
   ],
   "metadata": {
    "collapsed": false,
    "pycharm": {
     "name": "#%% md\n"
    }
   }
  },
  {
   "cell_type": "code",
   "execution_count": null,
   "outputs": [],
   "source": [
    "# --- Aggregation for all aggregation strategies except Nemenyi\n",
    "a = ru.Aggregator(df, rf)\n",
    "a.aggregate(verbose=True, ignore_strategies=[\"nemenyi rank\"])\n",
    "a.to_csv(u.TMP_DIR / \"consensuses_no_nemenyi.csv\")\n",
    "\n",
    "# --- Test multiple alphas, then concatenate everything together\n",
    "for alpha in [0.01, 0.05, 0.1]:\n",
    "    a = ru.Aggregator(df, rf)\n",
    "    a.aggregate(verbose=True, strategies=[\"nemenyi rank\"], alpha=alpha)\n",
    "    a.to_csv(u.TMP_DIR / f\"consensus_nemenyi_{alpha}.csv\")\n",
    "\n",
    "# --- concatenate\n",
    "aggrf = pd.read_csv(u.TMP_DIR / \"consensuses_no_nemenyi.csv\", index_col=0,\n",
    "                    header=[0, 1, 2, 3])\n",
    "agg_nemenyi = [\n",
    "    pd.read_csv(u.TMP_DIR / f\"consensus_nemenyi_{alpha}.csv\", index_col=0, header=[0, 1, 2, 3])\n",
    "    for alpha in [0.01, 0.05, 0.1]\n",
    "]\n",
    "\n",
    "aggrf = pd.concat(agg_nemenyi.extend([aggrf]) or agg_nemenyi, axis=1)\n",
    "aggrf.to_csv(u.RANKINGS_DIR / \"consensuses.csv\")"
   ],
   "metadata": {
    "collapsed": false,
    "pycharm": {
     "name": "#%%\n"
    }
   }
  },
  {
   "cell_type": "markdown",
   "source": [
    "Then, compute similarity between aggregations"
   ],
   "metadata": {
    "collapsed": false,
    "pycharm": {
     "name": "#%% md\n"
    }
   }
  },
  {
   "cell_type": "code",
   "execution_count": null,
   "outputs": [],
   "source": [
    "aggrf = u.load_aggrf().rename(columns=u.AGGREGATION_NAMES, level=\"aggregation\")\n",
    "agg_jaccard, agg_rho = u.pairwise_similarity_wide_format(aggrf,\n",
    "                                                         simfuncs=[rm.jaccard_best,\n",
    "                                                                   rm.spearman_rho],\n",
    "                                                         shared_levels=slice(-1))\n",
    "\n",
    "agg_jaccard.to_csv(u.RANKINGS_DIR / \"pw_AGG_jaccard.csv\")\n",
    "agg_rho.to_csv(u.RANKINGS_DIR / \"pw_AGG_rho.csv\")"
   ],
   "metadata": {
    "collapsed": false,
    "pycharm": {
     "name": "#%%\n"
    }
   }
  },
  {
   "cell_type": "markdown",
   "source": [
    "And finally plot it"
   ],
   "metadata": {
    "collapsed": false,
    "pycharm": {
     "name": "#%% md\n"
    }
   }
  },
  {
   "cell_type": "code",
   "execution_count": null,
   "outputs": [],
   "source": [
    "aggsims = u.load_agg_similarities()\n",
    "agg_jaccard = aggsims[\"pw_AGG_jaccard.csv\"]\n",
    "agg_rho = aggsims[\"pw_AGG_rho.csv\"]\n",
    "\n",
    "df_sim = u.join_wide2long({\"rho\": agg_rho, \"jaccard\": agg_jaccard}, comparison_level=\"aggregation\")\n",
    "\n",
    "sns.set_style(\"ticks\")\n",
    "mpl.rcParams['text.usetex'] = True\n",
    "mpl.rcParams['text.latex.preamble'] = r'\\usepackage{mathptmx}'\n",
    "mpl.rc('font', family='Times New Roman')\n",
    "\n",
    "fig, ax = plt.subplots(1, 1, figsize=(3, 3.3))\n",
    "u.heatmap_longformat_multisim(df_sim, [\"rho\", \"jaccard\"], \"aggregation\", fontsize=7, annot_fontsize=7,\n",
    "                              save_plot=True, show_plot=True, ax=ax, summary_statistic=\"mean\", title=None)"
   ],
   "metadata": {
    "collapsed": false,
    "pycharm": {
     "name": "#%%\n"
    }
   }
  },
  {
   "cell_type": "markdown",
   "source": [
    "### Replicability\n",
    "\n",
    "Replicability is compute by sampling two disjoint sets of datasets, aggregating on those subsets, and finally computing the similarity of hte two consensuses. This process is repeated for various sample sizes 100 each.\n",
    "We do not use Kemeny aggregatio as it taks a long time. Results are for different tuning as the number of datasets differs.\n",
    "Perfect replicability is 1.\n"
   ],
   "metadata": {
    "collapsed": false,
    "pycharm": {
     "name": "#%% md\n"
    }
   }
  },
  {
   "cell_type": "code",
   "execution_count": null,
   "outputs": [],
   "source": [
    "df, rf = u.load_df_rf()\n",
    "\n",
    "tuning = \"no\"\n",
    "df_ = df.query(\"tuning == @tuning\")\n",
    "rf_ = rf.loc(axis=1)[:, :, tuning, :].copy()\n",
    "\n",
    "sample_df_sim = u.load_sample_similarity_dataframe(tuning=tuning)\n",
    "run = True\n",
    "if run:\n",
    "    # whenever we add experiments, start from the value of seed\n",
    "    seed = 0\n",
    "    sample_sizes = [5, 10, 15, 20, 25]\n",
    "    repetitions = 20\n",
    "    mat_corrs = []\n",
    "    sample_aggregators = defaultdict(lambda: [])\n",
    "    for sample_size in tqdm(sample_sizes):\n",
    "        inner_mat_corrs = []\n",
    "        inner_sample_aggregators = []\n",
    "        for _ in tqdm(range(repetitions)):\n",
    "            seed += 1\n",
    "            a = ru.SampleAggregator(df_, rf_, sample_size, seed=seed, bootstrap=True).aggregate(ignore_strategies=[\"kemeny rank\"],\n",
    "                                                                                                verbose=False)\n",
    "\n",
    "            tmp_jaccard, tmp_rho = u.pairwise_similarity_wide_format(a.aggrf,\n",
    "                                                                     simfuncs=[rm.jaccard_best,\n",
    "                                                                               rm.spearman_rho])\n",
    "            agg_sample_long = u.join_wide2long(dict(zip([\"jaccard\", \"rho\"],\n",
    "                                                        [tmp_jaccard, tmp_rho])),\n",
    "                                               comparison_level=\"sample\")\n",
    "\n",
    "            inner_mat_corrs.append(agg_sample_long.assign(sample_size=sample_size).query(\"sample_1 < sample_2\"))\n",
    "            sample_aggregators[sample_size].append(a)\n",
    "        mat_corrs.append(pd.concat(inner_mat_corrs, axis=0))\n",
    "    # if mat_corr is already defined, make it bigger! We are adding experiments\n",
    "    mat_corr = pd.concat(mat_corrs, axis=0)\n",
    "    mat_corr = mat_corr.join(\n",
    "        mat_corr.groupby([\"aggregation\", \"sample_size\"])[[\"jaccard\", \"rho\"]].std(),\n",
    "        on=[\"aggregation\", \"sample_size\"], rsuffix=\"_std\")\n",
    "    sample_df_sim = pd.concat([sample_df_sim, mat_corr], axis=0)\n",
    "\n",
    "# rename to AGGREGATION_NAMES but allow correctly formatted names\n",
    "sample_df_sim.aggregation = sample_df_sim.aggregation.map(lambda x: defaultdict(lambda: x, u.AGGREGATION_NAMES)[x])\n",
    "sample_df_sim.to_csv(u.RANKINGS_DIR / f\"sample_sim_{tuning}.csv\", index=False)"
   ],
   "metadata": {
    "collapsed": false,
    "pycharm": {
     "name": "#%%\n"
    }
   }
  },
  {
   "cell_type": "markdown",
   "source": [
    "And finally plot everything!"
   ],
   "metadata": {
    "collapsed": false,
    "pycharm": {
     "name": "#%% md\n"
    }
   }
  },
  {
   "cell_type": "code",
   "execution_count": null,
   "outputs": [],
   "source": [
    "sns.set(font_scale=0.8)\n",
    "sns.set_style(\"ticks\")\n",
    "mpl.rcParams['text.usetex'] = True\n",
    "mpl.rcParams['text.latex.preamble'] = r'\\usepackage{mathptmx}'\n",
    "mpl.rc('font', family='Times New Roman')\n",
    "\n",
    "fig = plt.figure(figsize=(5.5, 3))\n",
    "gs = fig.add_gridspec(2, 3)\n",
    "\n",
    "hue = \"aggregation\"\n",
    "\n",
    "for isim, sim in enumerate([\"rho\", \"agrbest\"]):\n",
    "    for itun, tuning in enumerate([\"no\", \"model\", \"full\"]):\n",
    "        sample_df_sim = u.load_sample_similarity_dataframe(tuning=tuning)\n",
    "\n",
    "        xb = (sim == \"agrbest\")\n",
    "        yl = (tuning == \"no\")\n",
    "\n",
    "        with sns.axes_style(\"ticks\", {\"xtick.bottom\": True, \"ytick.left\": True}):\n",
    "            ax = fig.add_subplot(gs[isim, itun])\n",
    "\n",
    "            u.lineplot_longformat_sample_sim(sample_df_sim, similarity=sim, save_plot=False, show_plot=False,\n",
    "                                             hue=hue,\n",
    "                                             estimator=\"mean\",\n",
    "                                             ax=ax,\n",
    "                                             )\n",
    "        if not xb:\n",
    "            ax.set_xlabel(None)\n",
    "            ax.set_xticklabels([])\n",
    "        if not yl:\n",
    "            ax.set_ylabel(None)\n",
    "            ax.set_yticklabels([])\n",
    "\n",
    "        ax.grid(axis=\"y\", zorder=-1, linewidth=0.4)\n",
    "\n",
    "        if tuning == \"no\":\n",
    "            handles, labels = ax.get_legend_handles_labels()\n",
    "\n",
    "        ax.legend().remove()\n",
    "\n",
    "        if sim == \"rho\":\n",
    "            ax.set_title(f\"{tuning} tuning\")\n",
    "\n",
    "    plt.tight_layout(w_pad=3, h_pad=1)\n",
    "\n",
    "    ## hue = model\n",
    "    # plt.subplots_adjust(top=0.86)\n",
    "    # plt.figlegend(\n",
    "    #     handles=handles,\n",
    "    #     labels=labels,\n",
    "    #     bbox_to_anchor=(0, 0.86+0.02, 1, 0.2),\n",
    "    #     loc=\"lower left\",\n",
    "    #     mode=\"expand\",\n",
    "    #     borderaxespad=1,\n",
    "    #     ncol=5,\n",
    "    #     frameon=False\n",
    "    # )\n",
    "\n",
    "    ## hue = aggregation\n",
    "    plt.subplots_adjust(top=0.8)\n",
    "    plt.figlegend(\n",
    "        handles=handles,\n",
    "        labels=labels,\n",
    "        bbox_to_anchor=(0, 0.8+0.02, 1, 0.2),\n",
    "        loc=\"lower left\",\n",
    "        mode=\"expand\",\n",
    "        borderaxespad=1,\n",
    "        ncol=5,\n",
    "        frameon=False\n",
    "    )\n",
    "\n",
    "    # hue = scoring\n",
    "    # plt.subplots_adjust(top=0.86)\n",
    "    # plt.figlegend(\n",
    "    #     handles=handles,\n",
    "    #     labels=labels,\n",
    "    #     bbox_to_anchor=(0, 0.86+0.02, 1, 0.2),\n",
    "    #     loc=\"lower center\",\n",
    "    #     # mode=\"expand\",\n",
    "    #     borderaxespad=1,\n",
    "    #     ncol=3,\n",
    "    #     frameon=False\n",
    "    # )\n",
    "\n",
    "sns.despine(trim=True)"
   ],
   "metadata": {
    "collapsed": false,
    "pycharm": {
     "name": "#%%\n"
    }
   }
  },
  {
   "cell_type": "markdown",
   "source": [
    "## Rank of encoders\n"
   ],
   "metadata": {
    "collapsed": false,
    "pycharm": {
     "name": "#%% md\n"
    }
   }
  },
  {
   "cell_type": "code",
   "execution_count": null,
   "outputs": [],
   "source": [
    "rf = u.load_rf()\n",
    "\n",
    "rf_melt = rf.melt(ignore_index=False).reset_index()\n",
    "rf_melt.columns = [\"encoder\", \"dataset\", \"model\", \"tuning\", \"scoring\", \"rank\"]\n",
    "rf_melt.encoder = rf_melt.encoder.map(u.ENCODER_LATEX)\n",
    "\n",
    "sns.set(font_scale=0.8)\n",
    "sns.set_style(\"ticks\", {\"ytick.left\": False})\n",
    "mpl.rcParams['text.usetex'] = True\n",
    "mpl.rcParams['text.latex.preamble'] = r'\\usepackage{mathptmx}'\n",
    "mpl.rc('font', family='Times New Roman')\n",
    "\n",
    "\n",
    "fig, ax = plt.subplots(1, 1, figsize=(1.8, 4.4))\n",
    "ax = u.sorted_boxplot_horizontal(data=rf_melt, y=\"encoder\", x=\"rank\", order_by=\"mean\",\n",
    "                                 # palette=sns.light_palette(\"grey\", n_colors=len(rf.index)),\n",
    "                                 color=\"lightgrey\",\n",
    "                                 showfliers=False,\n",
    "                                 linewidth=1, showcaps=False,\n",
    "                                 showmeans=True,\n",
    "                                 meanprops={\"marker\": \"o\",\n",
    "                                            \"markeredgecolor\": \"red\",\n",
    "                                            \"markersize\": 2},\n",
    "                                 medianprops={\"linestyle\": \"-\"\n",
    "                                 },\n",
    "                                 ax=ax)\n",
    "ax.set(xlabel=None, ylabel=None)\n",
    "ax.set_xlim(0, 32)\n",
    "ax.set_xticks([0, 10, 20, 30])\n",
    "ax.grid(axis=\"x\", zorder=-1, linewidth=0.4)\n",
    "# ax.set_title(\"(c) All models\")\n",
    "\n",
    "sns.despine(left=True, trim=True)\n",
    "plt.tight_layout(w_pad=0.5)"
   ],
   "metadata": {
    "collapsed": false,
    "pycharm": {
     "name": "#%%\n"
    }
   }
  },
  {
   "cell_type": "code",
   "execution_count": null,
   "outputs": [],
   "source": [
    "rf = u.load_rf()\n",
    "\n",
    "model = \"KNC\"\n",
    "rf = rf.loc(axis=1)[:, model, :, :]\n",
    "\n",
    "rf_melt = rf.melt(ignore_index=False).reset_index()\n",
    "rf_melt.columns = [\"encoder\", \"dataset\", \"model\", \"tuning\", \"scoring\", \"rank\"]\n",
    "rf_melt.encoder = rf_melt.encoder.map(u.ENCODER_LATEX)\n",
    "\n",
    "sns.set(font_scale=0.8)\n",
    "sns.set_style(\"ticks\", {\"ytick.left\": False})\n",
    "mpl.rcParams['text.usetex'] = True\n",
    "mpl.rcParams['text.latex.preamble'] = r'\\usepackage{mathptmx}'\n",
    "mpl.rc('font', family='Times New Roman')\n",
    "\n",
    "\n",
    "fig, ax = plt.subplots(1, 1, figsize=(1.8, 4.4))\n",
    "ax = u.sorted_boxplot_horizontal(data=rf_melt, y=\"encoder\", x=\"rank\", order_by=\"mean\",\n",
    "                                 # palette=sns.light_palette(\"grey\", n_colors=len(rf.index)),\n",
    "                                 color=\"lightgrey\",\n",
    "                                 showfliers=False,\n",
    "                                 linewidth=1, showcaps=False,\n",
    "                                 showmeans=True,\n",
    "                                 meanprops={\"marker\": \"o\",\n",
    "                                            \"markeredgecolor\": \"red\",\n",
    "                                            \"markersize\": 2},\n",
    "                                 medianprops={\"linestyle\": \"-\"\n",
    "                                 },\n",
    "                                 ax=ax)\n",
    "ax.set(xlabel=None, ylabel=None)\n",
    "ax.set_xlim(0, 32)\n",
    "ax.set_xticks([0, 10, 20, 30])\n",
    "ax.grid(axis=\"x\", zorder=-1, linewidth=0.4)\n",
    "\n",
    "sns.despine(left=True, trim=True)\n",
    "plt.tight_layout(w_pad=0.5)"
   ],
   "metadata": {
    "collapsed": false,
    "pycharm": {
     "name": "#%%\n"
    }
   }
  }
 ],
 "metadata": {
  "kernelspec": {
   "display_name": "Python 3",
   "language": "python",
   "name": "python3"
  },
  "language_info": {
   "codemirror_mode": {
    "name": "ipython",
    "version": 2
   },
   "file_extension": ".py",
   "mimetype": "text/x-python",
   "name": "python",
   "nbconvert_exporter": "python",
   "pygments_lexer": "ipython2",
   "version": "2.7.6"
  }
 },
 "nbformat": 4,
 "nbformat_minor": 0
}