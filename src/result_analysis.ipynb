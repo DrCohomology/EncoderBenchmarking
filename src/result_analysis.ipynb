{
 "cells": [
  {
   "cell_type": "markdown",
   "source": [
    "# Get results\n",
    "This notebook describes the steps necessary to analyze the experimental results and get the plots and tables in the paper. Every cell can be run independently, as the computed data is stored in a temporary directory.\n",
    "\n",
    "_As some cells require hours to run, the pre-computed results are in a dedicated folder: `src.utils.TMP_DIR`. These cells are commented out._"
   ],
   "metadata": {
    "collapsed": false,
    "pycharm": {
     "name": "#%% md\n"
    }
   }
  },
  {
   "cell_type": "code",
   "execution_count": 1,
   "outputs": [],
   "source": [
    "import matplotlib as mpl\n",
    "import matplotlib.pyplot as plt\n",
    "import pandas as pd\n",
    "import seaborn as sns\n",
    "\n",
    "from collections import defaultdict\n",
    "from functools import reduce\n",
    "from tqdm import tqdm\n",
    "\n",
    "import src.utils as u\n",
    "import src.rank_utils as ru\n",
    "import src.rank_metrics as rm"
   ],
   "metadata": {
    "collapsed": false,
    "pycharm": {
     "name": "#%%\n"
    }
   }
  },
  {
   "cell_type": "markdown",
   "source": [
    "## Sensitivity analysis\n",
    "The relative performance of encoders can depend on an ML model, a quality metric, or a tuning strategy.\n",
    "The choice of an aggregation strategy impacts the consensus ranking.\n",
    "To quantify the influence of these choices, we calculate the similarity between rankings using the Jaccard index $J$ for the sets of best encoders as well as the Spearman correlation coefficient $\\rho$.\n",
    "For both measures, values close to 1 indicate high agreement between rankings and low sensitivity.\n",
    "Conversely, values near 0 (or, for $\\rho$, negative) suggest low consistency and high sensitivity.\n",
    "\n",
    "### Sensitivity to experimental factors\n",
    "We evaluate the sensitivity of encoder rankings on individual datasets with respect to an experimental factor (ML model, quality metric, or tuning strategy) by varying the factor of interest and keeping the other factors fixed, then calculating the similarity between pairs of rankings.\n",
    "After that, we average the result across all combinations of the other factors.\n",
    "Our findings highlight the high sensitivity of results of studies comparing encoders to experimental factors, for both the full rankings and the best encoders.\n",
    "They also explain why results from other studies are not comparable, as choosing different values for any factor will lead to different results.\n",
    "\n",
    "We now proceed to calculate sensitivity and plot it:"
   ],
   "metadata": {
    "collapsed": false,
    "pycharm": {
     "name": "#%% md\n"
    }
   }
  },
  {
   "cell_type": "code",
   "execution_count": 2,
   "outputs": [],
   "source": [
    "df, rf = u.load_df_rf()\n",
    "\n",
    "# sensitivity to ML model (model), tuning strategy (tuning), and quality metric (scoring) respectively. The other factors are fixed.\n",
    "jaccard_model, rho_model = u.pairwise_similarity_wide_format(rf, simfuncs=[rm.jaccard_best, rm.spearman_rho],\n",
    "                                                             shared_levels=[0, 2, 3])\n",
    "jaccard_tuning, rho_tuning = u.pairwise_similarity_wide_format(rf, simfuncs=[rm.jaccard_best, rm.spearman_rho],\n",
    "                                                               shared_levels=[0, 1, 3])\n",
    "jaccard_scoring, rho_scoring = u.pairwise_similarity_wide_format(rf, simfuncs=[rm.jaccard_best, rm.spearman_rho],\n",
    "                                                                 shared_levels=[0, 1, 2])\n",
    "\n",
    "jaccard = reduce(lambda x, y: x.fillna(y), [jaccard_model, jaccard_tuning, jaccard_scoring])\n",
    "rho = reduce(lambda x, y: x.fillna(y), [rho_model, rho_tuning, rho_scoring])\n",
    "\n",
    "jaccard.to_csv(u.RANKINGS_DIR / \"pw_jaccard.csv\")\n",
    "rho.to_csv(u.RANKINGS_DIR / \"pw_rho.csv\")"
   ],
   "metadata": {
    "collapsed": false,
    "pycharm": {
     "name": "#%%\n"
    }
   }
  },
  {
   "cell_type": "markdown",
   "source": [
    "And now we can plot it"
   ],
   "metadata": {
    "collapsed": false,
    "pycharm": {
     "name": "#%% md\n"
    }
   }
  },
  {
   "cell_type": "code",
   "execution_count": 3,
   "outputs": [
    {
     "data": {
      "text/plain": "<Figure size 640x480 with 3 Axes>",
      "image/png": "[encoded data removed]"
     },
     "metadata": {},
     "output_type": "display_data"
    }
   ],
   "source": [
    "sims = u.load_similarity_dataframes()\n",
    "rho = sims[\"pw_rho.csv\"]\n",
    "jaccard = sims[\"pw_jaccard.csv\"]\n",
    "\n",
    "factors = [\"model\", \"tuning\", \"scoring\"]\n",
    "similarities = [\"rho\", \"jaccard\"]\n",
    "\n",
    "sns.set(font_scale=0.8)\n",
    "sns.set_style(\"ticks\")\n",
    "mpl.rcParams['text.usetex'] = True\n",
    "mpl.rcParams['text.latex.preamble'] = r'\\usepackage{mathptmx}'\n",
    "mpl.rc('font', family='Times New Roman')\n",
    "\n",
    "fig, axes = plt.subplots(1, len(factors))\n",
    "\n",
    "for ax, factor in zip(axes, factors):\n",
    "    df_sim = u.join_wide2long({\"jaccard\": jaccard, \"rho\": rho}, comparison_level=factor)\n",
    "    title = factor\n",
    "    # if factor == \"model\":\n",
    "    #     figsize = (1.8, 1.8)\n",
    "    # elif factor == \"tuning\":\n",
    "    #     figsize = (1.2, 1.2)\n",
    "    # elif factor == \"scoring\":\n",
    "    #     figsize = (1.1, 1.1)\n",
    "    # else:\n",
    "    #     raise AssertionError(f\"{factor} is an invalid factor.\")\n",
    "\n",
    "    u.heatmap_longformat_multisim(df_sim, similarities, factor, fontsize=8, annot_fontsize=8,\n",
    "                                  # figsize=figsize,\n",
    "                                  save_plot=False, show_plot=False, title=title, ax=ax)\n",
    "\n",
    "plt.show()"
   ],
   "metadata": {
    "collapsed": false,
    "pycharm": {
     "name": "#%%\n"
    }
   }
  },
  {
   "cell_type": "markdown",
   "source": [
    "### Sensitivity to aggregation strategy\n",
    "\n",
    "To evaluate the impact of the aggregation strategy on the consensus ranking, we apply the same procedure as above to consensus rankings instead of rankings on individual datasets.\n",
    "For example, Spearman's $\\rho$ between consensus rankings obtained with Q-M and Q-Md averaged across all ML models, tuning strategies, and quality metrics is 0.8.\n",
    "\n",
    "While some aggregation strategies show strong similarities, different strategies yield very different consensus rankings in general.\n",
    "This is particularly evident for Jaccard index $J$, indicating the high sensitivity of the best encoders to the rank aggregation strategy.\n",
    "\n",
    "We begin by computing the consensus rankings with different aggregation strategies."
   ],
   "metadata": {
    "collapsed": false,
    "pycharm": {
     "name": "#%% md\n"
    }
   }
  },
  {
   "cell_type": "code",
   "execution_count": 4,
   "outputs": [
    {
     "data": {
      "text/plain": "  0%|          | 0/36 [00:00<?, ?it/s]",
      "application/vnd.jupyter.widget-view+json": {
       "version_major": 2,
       "version_minor": 0,
       "model_id": "196580b98817402c9fa82ba9ebfa2ed5"
      }
     },
     "metadata": {},
     "output_type": "display_data"
    },
    {
     "name": "stdout",
     "output_type": "stream",
     "text": [
      "Set parameter Username\n",
      "Academic license - for non-commercial use only - expires 2024-05-03\n"
     ]
    },
    {
     "name": "stderr",
     "output_type": "stream",
     "text": [
      "C:\\Users\\federicom\\Documents\\GitHub\\EncoderBenchmarking\\src\\rank_utils.py:283: RuntimeWarning: invalid value encountered in true_divide\n",
      "  c = np.nansum([ms[i] / (w[i] * (w[i]-1)) for i in range(nv)], axis=0)\n",
      "C:\\Users\\federicom\\Documents\\GitHub\\EncoderBenchmarking\\src\\rank_utils.py:283: RuntimeWarning: invalid value encountered in true_divide\n",
      "  c = np.nansum([ms[i] / (w[i] * (w[i]-1)) for i in range(nv)], axis=0)\n",
      "C:\\Users\\federicom\\Documents\\GitHub\\EncoderBenchmarking\\src\\rank_utils.py:283: RuntimeWarning: invalid value encountered in true_divide\n",
      "  c = np.nansum([ms[i] / (w[i] * (w[i]-1)) for i in range(nv)], axis=0)\n"
     ]
    },
    {
     "data": {
      "text/plain": "  0%|          | 0/36 [00:00<?, ?it/s]",
      "application/vnd.jupyter.widget-view+json": {
       "version_major": 2,
       "version_minor": 0,
       "model_id": "55b67aef183a420492ea3c67c8ceac9e"
      }
     },
     "metadata": {},
     "output_type": "display_data"
    },
    {
     "data": {
      "text/plain": "  0%|          | 0/36 [00:00<?, ?it/s]",
      "application/vnd.jupyter.widget-view+json": {
       "version_major": 2,
       "version_minor": 0,
       "model_id": "a075cfa853a84e9fae1470555773e53c"
      }
     },
     "metadata": {},
     "output_type": "display_data"
    },
    {
     "data": {
      "text/plain": "  0%|          | 0/36 [00:00<?, ?it/s]",
      "application/vnd.jupyter.widget-view+json": {
       "version_major": 2,
       "version_minor": 0,
       "model_id": "6c681f60787e46449d0c8f68afe7e713"
      }
     },
     "metadata": {},
     "output_type": "display_data"
    },
    {
     "name": "stdout",
     "output_type": "stream",
     "text": [
      "Wall time: 41min 22s\n"
     ]
    }
   ],
   "source": [
    "%%time\n",
    "consensuses = list()\n",
    "\n",
    "# --- Aggregation for all aggregation strategies except Nemenyi\n",
    "consensuses.append(ru.Aggregator(df, rf).aggregate(verbose=True, ignore_strategies=[\"nemenyi rank\"]).aggrf)\n",
    "\n",
    "# --- Aggregation with Nemenyi with different significance levels\n",
    "for alpha in [0.01, 0.05, 0.1]:\n",
    "    consensuses.append(ru.Aggregator(df, rf).aggregate(verbose=True, strategies=[\"nemenyi rank\"], alpha=alpha).aggrf)\n",
    "\n",
    "aggrf = pd.concat(consensuses, axis=1)\n",
    "aggrf.to_csv(u.RANKINGS_DIR / \"consensuses.csv\")"
   ],
   "metadata": {
    "collapsed": false,
    "pycharm": {
     "name": "#%%\n"
    }
   }
  },
  {
   "cell_type": "markdown",
   "source": [
    "We then compute the similarity between different consensuses"
   ],
   "metadata": {
    "collapsed": false,
    "pycharm": {
     "name": "#%% md\n"
    }
   }
  },
  {
   "cell_type": "code",
   "execution_count": 5,
   "outputs": [],
   "source": [
    "aggrf = u.load_aggrf().rename(columns=u.AGGREGATION_NAMES, level=\"aggregation\")\n",
    "agg_jaccard, agg_rho = u.pairwise_similarity_wide_format(aggrf,\n",
    "                                                         simfuncs=[rm.jaccard_best,\n",
    "                                                                   rm.spearman_rho],\n",
    "                                                         shared_levels=slice(-1))\n",
    "\n",
    "agg_jaccard.to_csv(u.RANKINGS_DIR / \"pw_AGG_jaccard.csv\")\n",
    "agg_rho.to_csv(u.RANKINGS_DIR / \"pw_AGG_rho.csv\")"
   ],
   "metadata": {
    "collapsed": false,
    "pycharm": {
     "name": "#%%\n"
    }
   }
  },
  {
   "cell_type": "markdown",
   "source": [
    "... and finally plot it."
   ],
   "metadata": {
    "collapsed": false,
    "pycharm": {
     "name": "#%% md\n"
    }
   }
  },
  {
   "cell_type": "code",
   "execution_count": 6,
   "outputs": [
    {
     "data": {
      "text/plain": "<Figure size 300x330 with 1 Axes>",
      "image/png": "[encoded data removed]"
     },
     "metadata": {},
     "output_type": "display_data"
    }
   ],
   "source": [
    "aggsims = u.load_agg_similarities()\n",
    "agg_jaccard = aggsims[\"pw_AGG_jaccard.csv\"]\n",
    "agg_rho = aggsims[\"pw_AGG_rho.csv\"]\n",
    "\n",
    "df_sim = u.join_wide2long({\"rho\": agg_rho, \"jaccard\": agg_jaccard}, comparison_level=\"aggregation\")\n",
    "\n",
    "sns.set_style(\"ticks\")\n",
    "mpl.rcParams['text.usetex'] = True\n",
    "mpl.rcParams['text.latex.preamble'] = r'\\usepackage{mathptmx}'\n",
    "mpl.rc('font', family='Times New Roman')\n",
    "\n",
    "fig, ax = plt.subplots(1, 1, figsize=(3, 3.3))\n",
    "u.heatmap_longformat_multisim(df_sim, [\"rho\", \"jaccard\"], \"aggregation\", fontsize=7, annot_fontsize=7,\n",
    "                              save_plot=False, show_plot=True, ax=ax, summary_statistic=\"mean\", title=None)"
   ],
   "metadata": {
    "collapsed": false,
    "pycharm": {
     "name": "#%%\n"
    }
   }
  },
  {
   "cell_type": "markdown",
   "source": [
    "## Replicability\n",
    "\n",
    "Replicability is the property of a benchmark of obtaining consistent results from different data.\n",
    "We quantify replicability by comparing consensus rankings aggregated on two disjoint samples of datasets of equal size.\n",
    "Each data point represents 100 iterations of randomly selecting two disjoint sets of datasets and applying multiple aggregation strategies.\n",
    "We exclude R-Kem due to its high computational complexity.\n",
    "Even with 25 datasets, replicability is moderate.\n",
    "This suggests that consensus rankings vary significantly depending on the data.\n",
    "Results from logistic regression tend to exhibit the highest replicability among ML models, while decision trees show the lowest."
   ],
   "metadata": {
    "collapsed": false,
    "pycharm": {
     "name": "#%% md\n"
    }
   }
  },
  {
   "cell_type": "code",
   "execution_count": null,
   "outputs": [
    {
     "data": {
      "text/plain": "  0%|          | 0/5 [00:00<?, ?it/s]",
      "application/vnd.jupyter.widget-view+json": {
       "version_major": 2,
       "version_minor": 0,
       "model_id": "ff6b843083fd4fcfbe7d49038a072d0f"
      }
     },
     "metadata": {},
     "output_type": "display_data"
    },
    {
     "data": {
      "text/plain": "  0%|          | 0/100 [00:00<?, ?it/s]",
      "application/vnd.jupyter.widget-view+json": {
       "version_major": 2,
       "version_minor": 0,
       "model_id": "29f8a5c5005342289c3bca8a160eab29"
      }
     },
     "metadata": {},
     "output_type": "display_data"
    },
    {
     "data": {
      "text/plain": "  0%|          | 0/100 [00:00<?, ?it/s]",
      "application/vnd.jupyter.widget-view+json": {
       "version_major": 2,
       "version_minor": 0,
       "model_id": "8dc19d7bb48b4ea6957131a0041daad7"
      }
     },
     "metadata": {},
     "output_type": "display_data"
    },
    {
     "data": {
      "text/plain": "  0%|          | 0/100 [00:00<?, ?it/s]",
      "application/vnd.jupyter.widget-view+json": {
       "version_major": 2,
       "version_minor": 0,
       "model_id": "938b00b86cd14308b94aa21ebe807ca7"
      }
     },
     "metadata": {},
     "output_type": "display_data"
    },
    {
     "data": {
      "text/plain": "  0%|          | 0/100 [00:00<?, ?it/s]",
      "application/vnd.jupyter.widget-view+json": {
       "version_major": 2,
       "version_minor": 0,
       "model_id": "977ffcad79dc490bb4b39cefc5557c44"
      }
     },
     "metadata": {},
     "output_type": "display_data"
    },
    {
     "data": {
      "text/plain": "  0%|          | 0/100 [00:00<?, ?it/s]",
      "application/vnd.jupyter.widget-view+json": {
       "version_major": 2,
       "version_minor": 0,
       "model_id": "642383cdfa55409b974c3f030020fcb7"
      }
     },
     "metadata": {},
     "output_type": "display_data"
    },
    {
     "data": {
      "text/plain": "  0%|          | 0/5 [00:00<?, ?it/s]",
      "application/vnd.jupyter.widget-view+json": {
       "version_major": 2,
       "version_minor": 0,
       "model_id": "c315927b0675475684d03d94a91c4349"
      }
     },
     "metadata": {},
     "output_type": "display_data"
    },
    {
     "data": {
      "text/plain": "  0%|          | 0/100 [00:00<?, ?it/s]",
      "application/vnd.jupyter.widget-view+json": {
       "version_major": 2,
       "version_minor": 0,
       "model_id": "bdb5607b0c2242c8963c4c355ad58605"
      }
     },
     "metadata": {},
     "output_type": "display_data"
    },
    {
     "data": {
      "text/plain": "  0%|          | 0/100 [00:00<?, ?it/s]",
      "application/vnd.jupyter.widget-view+json": {
       "version_major": 2,
       "version_minor": 0,
       "model_id": "00f5c27a0262412b95d5609b13e61b27"
      }
     },
     "metadata": {},
     "output_type": "display_data"
    }
   ],
   "source": [
    "%%time\n",
    "df, rf = u.load_df_rf()\n",
    "for tuning in [\"no\", \"model\", \"full\"]:\n",
    "    ru.replicability_analysis(df, rf, tuning, sample_sizes=[5, 10, 15, 20, 25], repetitions=100, append_to_existing=False, save=True)"
   ],
   "metadata": {
    "collapsed": false,
    "pycharm": {
     "name": "#%%\n",
     "is_executing": true
    }
   }
  },
  {
   "cell_type": "markdown",
   "source": [
    "And finally plot everything!"
   ],
   "metadata": {
    "collapsed": false,
    "pycharm": {
     "name": "#%% md\n"
    }
   }
  },
  {
   "cell_type": "code",
   "execution_count": 9,
   "outputs": [
    {
     "name": "stdout",
     "output_type": "stream",
     "text": [
      "'sample_sim_model.csv' not found in C:\\Data\\EncoderBenchmarking_results\\Rankings.\n"
     ]
    },
    {
     "ename": "KeyError",
     "evalue": "'aggregation'",
     "output_type": "error",
     "traceback": [
      "\u001B[1;31m---------------------------------------------------------------------------\u001B[0m",
      "\u001B[1;31mKeyError\u001B[0m                                  Traceback (most recent call last)",
      "\u001B[1;32m~\\Anaconda3\\lib\\site-packages\\pandas\\core\\indexes\\base.py\u001B[0m in \u001B[0;36mget_loc\u001B[1;34m(self, key, method, tolerance)\u001B[0m\n\u001B[0;32m   3628\u001B[0m             \u001B[1;32mtry\u001B[0m\u001B[1;33m:\u001B[0m\u001B[1;33m\u001B[0m\u001B[1;33m\u001B[0m\u001B[0m\n\u001B[1;32m-> 3629\u001B[1;33m                 \u001B[1;32mreturn\u001B[0m \u001B[0mself\u001B[0m\u001B[1;33m.\u001B[0m\u001B[0m_engine\u001B[0m\u001B[1;33m.\u001B[0m\u001B[0mget_loc\u001B[0m\u001B[1;33m(\u001B[0m\u001B[0mcasted_key\u001B[0m\u001B[1;33m)\u001B[0m\u001B[1;33m\u001B[0m\u001B[1;33m\u001B[0m\u001B[0m\n\u001B[0m\u001B[0;32m   3630\u001B[0m             \u001B[1;32mexcept\u001B[0m \u001B[0mKeyError\u001B[0m \u001B[1;32mas\u001B[0m \u001B[0merr\u001B[0m\u001B[1;33m:\u001B[0m\u001B[1;33m\u001B[0m\u001B[1;33m\u001B[0m\u001B[0m\n",
      "\u001B[1;32m~\\Anaconda3\\lib\\site-packages\\pandas\\_libs\\index.pyx\u001B[0m in \u001B[0;36mpandas._libs.index.IndexEngine.get_loc\u001B[1;34m()\u001B[0m\n",
      "\u001B[1;32m~\\Anaconda3\\lib\\site-packages\\pandas\\_libs\\index.pyx\u001B[0m in \u001B[0;36mpandas._libs.index.IndexEngine.get_loc\u001B[1;34m()\u001B[0m\n",
      "\u001B[1;32mpandas\\_libs\\hashtable_class_helper.pxi\u001B[0m in \u001B[0;36mpandas._libs.hashtable.PyObjectHashTable.get_item\u001B[1;34m()\u001B[0m\n",
      "\u001B[1;32mpandas\\_libs\\hashtable_class_helper.pxi\u001B[0m in \u001B[0;36mpandas._libs.hashtable.PyObjectHashTable.get_item\u001B[1;34m()\u001B[0m\n",
      "\u001B[1;31mKeyError\u001B[0m: 'aggregation'",
      "\nThe above exception was the direct cause of the following exception:\n",
      "\u001B[1;31mKeyError\u001B[0m                                  Traceback (most recent call last)",
      "\u001B[1;32m~\\AppData\\Local\\Temp\\ipykernel_14852\\3677725758.py\u001B[0m in \u001B[0;36m<module>\u001B[1;34m\u001B[0m\n\u001B[0;32m     20\u001B[0m             \u001B[0max\u001B[0m \u001B[1;33m=\u001B[0m \u001B[0mfig\u001B[0m\u001B[1;33m.\u001B[0m\u001B[0madd_subplot\u001B[0m\u001B[1;33m(\u001B[0m\u001B[0mgs\u001B[0m\u001B[1;33m[\u001B[0m\u001B[0misim\u001B[0m\u001B[1;33m,\u001B[0m \u001B[0mitun\u001B[0m\u001B[1;33m]\u001B[0m\u001B[1;33m)\u001B[0m\u001B[1;33m\u001B[0m\u001B[1;33m\u001B[0m\u001B[0m\n\u001B[0;32m     21\u001B[0m \u001B[1;33m\u001B[0m\u001B[0m\n\u001B[1;32m---> 22\u001B[1;33m             u.lineplot_longformat_sample_sim(sample_df_sim, similarity=sim, save_plot=False, show_plot=False,\n\u001B[0m\u001B[0;32m     23\u001B[0m                                              \u001B[0mhue\u001B[0m\u001B[1;33m=\u001B[0m\u001B[0mhue\u001B[0m\u001B[1;33m,\u001B[0m\u001B[1;33m\u001B[0m\u001B[1;33m\u001B[0m\u001B[0m\n\u001B[0;32m     24\u001B[0m                                              \u001B[0mestimator\u001B[0m\u001B[1;33m=\u001B[0m\u001B[1;34m\"mean\"\u001B[0m\u001B[1;33m,\u001B[0m\u001B[1;33m\u001B[0m\u001B[1;33m\u001B[0m\u001B[0m\n",
      "\u001B[1;32m~\\Documents\\GitHub\\EncoderBenchmarking\\src\\utils.py\u001B[0m in \u001B[0;36mlineplot_longformat_sample_sim\u001B[1;34m(df_sim, similarity, save_plot, show_plot, hue, ax, **kwargs)\u001B[0m\n\u001B[0;32m   1223\u001B[0m \u001B[1;33m\u001B[0m\u001B[0m\n\u001B[0;32m   1224\u001B[0m     \u001B[0mdf_sim\u001B[0m \u001B[1;33m=\u001B[0m \u001B[0mdf_sim\u001B[0m\u001B[1;33m.\u001B[0m\u001B[0mrename\u001B[0m\u001B[1;33m(\u001B[0m\u001B[0mcolumns\u001B[0m\u001B[1;33m=\u001B[0m\u001B[1;33m{\u001B[0m\u001B[1;34m\"sample_size\"\u001B[0m\u001B[1;33m:\u001B[0m \u001B[1;34m\"sample size\"\u001B[0m\u001B[1;33m}\u001B[0m\u001B[1;33m)\u001B[0m\u001B[1;33m\u001B[0m\u001B[1;33m\u001B[0m\u001B[0m\n\u001B[1;32m-> 1225\u001B[1;33m     \u001B[0mdf_sim\u001B[0m\u001B[1;33m[\u001B[0m\u001B[0mhue\u001B[0m\u001B[1;33m]\u001B[0m \u001B[1;33m=\u001B[0m \u001B[0mdf_sim\u001B[0m\u001B[1;33m[\u001B[0m\u001B[0mhue\u001B[0m\u001B[1;33m]\u001B[0m\u001B[1;33m.\u001B[0m\u001B[0mmap\u001B[0m\u001B[1;33m(\u001B[0m\u001B[0mFACTOR_LATEX\u001B[0m\u001B[1;33m[\u001B[0m\u001B[0mhue\u001B[0m\u001B[1;33m]\u001B[0m\u001B[1;33m)\u001B[0m\u001B[1;33m\u001B[0m\u001B[1;33m\u001B[0m\u001B[0m\n\u001B[0m\u001B[0;32m   1226\u001B[0m \u001B[1;33m\u001B[0m\u001B[0m\n\u001B[0;32m   1227\u001B[0m     ax = sns.lineplot(df_sim, x=\"sample size\", y=similarity,\n",
      "\u001B[1;32m~\\Anaconda3\\lib\\site-packages\\pandas\\core\\frame.py\u001B[0m in \u001B[0;36m__getitem__\u001B[1;34m(self, key)\u001B[0m\n\u001B[0;32m   3503\u001B[0m             \u001B[1;32mif\u001B[0m \u001B[0mself\u001B[0m\u001B[1;33m.\u001B[0m\u001B[0mcolumns\u001B[0m\u001B[1;33m.\u001B[0m\u001B[0mnlevels\u001B[0m \u001B[1;33m>\u001B[0m \u001B[1;36m1\u001B[0m\u001B[1;33m:\u001B[0m\u001B[1;33m\u001B[0m\u001B[1;33m\u001B[0m\u001B[0m\n\u001B[0;32m   3504\u001B[0m                 \u001B[1;32mreturn\u001B[0m \u001B[0mself\u001B[0m\u001B[1;33m.\u001B[0m\u001B[0m_getitem_multilevel\u001B[0m\u001B[1;33m(\u001B[0m\u001B[0mkey\u001B[0m\u001B[1;33m)\u001B[0m\u001B[1;33m\u001B[0m\u001B[1;33m\u001B[0m\u001B[0m\n\u001B[1;32m-> 3505\u001B[1;33m             \u001B[0mindexer\u001B[0m \u001B[1;33m=\u001B[0m \u001B[0mself\u001B[0m\u001B[1;33m.\u001B[0m\u001B[0mcolumns\u001B[0m\u001B[1;33m.\u001B[0m\u001B[0mget_loc\u001B[0m\u001B[1;33m(\u001B[0m\u001B[0mkey\u001B[0m\u001B[1;33m)\u001B[0m\u001B[1;33m\u001B[0m\u001B[1;33m\u001B[0m\u001B[0m\n\u001B[0m\u001B[0;32m   3506\u001B[0m             \u001B[1;32mif\u001B[0m \u001B[0mis_integer\u001B[0m\u001B[1;33m(\u001B[0m\u001B[0mindexer\u001B[0m\u001B[1;33m)\u001B[0m\u001B[1;33m:\u001B[0m\u001B[1;33m\u001B[0m\u001B[1;33m\u001B[0m\u001B[0m\n\u001B[0;32m   3507\u001B[0m                 \u001B[0mindexer\u001B[0m \u001B[1;33m=\u001B[0m \u001B[1;33m[\u001B[0m\u001B[0mindexer\u001B[0m\u001B[1;33m]\u001B[0m\u001B[1;33m\u001B[0m\u001B[1;33m\u001B[0m\u001B[0m\n",
      "\u001B[1;32m~\\Anaconda3\\lib\\site-packages\\pandas\\core\\indexes\\base.py\u001B[0m in \u001B[0;36mget_loc\u001B[1;34m(self, key, method, tolerance)\u001B[0m\n\u001B[0;32m   3629\u001B[0m                 \u001B[1;32mreturn\u001B[0m \u001B[0mself\u001B[0m\u001B[1;33m.\u001B[0m\u001B[0m_engine\u001B[0m\u001B[1;33m.\u001B[0m\u001B[0mget_loc\u001B[0m\u001B[1;33m(\u001B[0m\u001B[0mcasted_key\u001B[0m\u001B[1;33m)\u001B[0m\u001B[1;33m\u001B[0m\u001B[1;33m\u001B[0m\u001B[0m\n\u001B[0;32m   3630\u001B[0m             \u001B[1;32mexcept\u001B[0m \u001B[0mKeyError\u001B[0m \u001B[1;32mas\u001B[0m \u001B[0merr\u001B[0m\u001B[1;33m:\u001B[0m\u001B[1;33m\u001B[0m\u001B[1;33m\u001B[0m\u001B[0m\n\u001B[1;32m-> 3631\u001B[1;33m                 \u001B[1;32mraise\u001B[0m \u001B[0mKeyError\u001B[0m\u001B[1;33m(\u001B[0m\u001B[0mkey\u001B[0m\u001B[1;33m)\u001B[0m \u001B[1;32mfrom\u001B[0m \u001B[0merr\u001B[0m\u001B[1;33m\u001B[0m\u001B[1;33m\u001B[0m\u001B[0m\n\u001B[0m\u001B[0;32m   3632\u001B[0m             \u001B[1;32mexcept\u001B[0m \u001B[0mTypeError\u001B[0m\u001B[1;33m:\u001B[0m\u001B[1;33m\u001B[0m\u001B[1;33m\u001B[0m\u001B[0m\n\u001B[0;32m   3633\u001B[0m                 \u001B[1;31m# If we have a listlike key, _check_indexing_error will raise\u001B[0m\u001B[1;33m\u001B[0m\u001B[1;33m\u001B[0m\u001B[0m\n",
      "\u001B[1;31mKeyError\u001B[0m: 'aggregation'"
     ]
    },
    {
     "data": {
      "text/plain": "<Figure size 550x300 with 2 Axes>",
      "image/png": "[encoded data removed]"
     },
     "metadata": {},
     "output_type": "display_data"
    }
   ],
   "source": [
    "sns.set(font_scale=0.8)\n",
    "sns.set_style(\"ticks\")\n",
    "mpl.rcParams['text.usetex'] = True\n",
    "mpl.rcParams['text.latex.preamble'] = r'\\usepackage{mathptmx}'\n",
    "mpl.rc('font', family='Times New Roman')\n",
    "\n",
    "fig = plt.figure(figsize=(5.5, 3))\n",
    "gs = fig.add_gridspec(2, 3)\n",
    "\n",
    "hue = \"aggregation\"\n",
    "\n",
    "for isim, sim in enumerate([\"rho\", \"agrbest\"]):\n",
    "    for itun, tuning in enumerate([\"no\", \"model\", \"full\"]):\n",
    "        sample_df_sim = u.load_sample_similarity_dataframe(tuning=tuning)\n",
    "\n",
    "\n",
    "\n",
    "        xb = (sim == \"agrbest\")\n",
    "        yl = (tuning == \"no\")\n",
    "\n",
    "        with sns.axes_style(\"ticks\", {\"xtick.bottom\": True, \"ytick.left\": True}):\n",
    "            ax = fig.add_subplot(gs[isim, itun])\n",
    "\n",
    "            u.lineplot_longformat_sample_sim(sample_df_sim, similarity=sim, save_plot=False, show_plot=False,\n",
    "                                             hue=hue,\n",
    "                                             estimator=\"mean\",\n",
    "                                             ax=ax,\n",
    "                                             )\n",
    "        if not xb:\n",
    "            ax.set_xlabel(None)\n",
    "            ax.set_xticklabels([])\n",
    "        if not yl:\n",
    "            ax.set_ylabel(None)\n",
    "            ax.set_yticklabels([])\n",
    "\n",
    "        ax.grid(axis=\"y\", zorder=-1, linewidth=0.4)\n",
    "\n",
    "        if tuning == \"no\":\n",
    "            handles, labels = ax.get_legend_handles_labels()\n",
    "\n",
    "        ax.legend().remove()\n",
    "\n",
    "        if sim == \"rho\":\n",
    "            ax.set_title(f\"{tuning} tuning\")\n",
    "\n",
    "    plt.tight_layout(w_pad=3, h_pad=1)\n",
    "\n",
    "    ## hue = model\n",
    "    # plt.subplots_adjust(top=0.86)\n",
    "    # plt.figlegend(\n",
    "    #     handles=handles,\n",
    "    #     labels=labels,\n",
    "    #     bbox_to_anchor=(0, 0.86+0.02, 1, 0.2),\n",
    "    #     loc=\"lower left\",\n",
    "    #     mode=\"expand\",\n",
    "    #     borderaxespad=1,\n",
    "    #     ncol=5,\n",
    "    #     frameon=False\n",
    "    # )\n",
    "\n",
    "    ## hue = aggregation\n",
    "    plt.subplots_adjust(top=0.8)\n",
    "    plt.figlegend(\n",
    "        handles=handles,\n",
    "        labels=labels,\n",
    "        bbox_to_anchor=(0, 0.8+0.02, 1, 0.2),\n",
    "        loc=\"lower left\",\n",
    "        mode=\"expand\",\n",
    "        borderaxespad=1,\n",
    "        ncol=5,\n",
    "        frameon=False\n",
    "    )\n",
    "\n",
    "    # hue = scoring\n",
    "    # plt.subplots_adjust(top=0.86)\n",
    "    # plt.figlegend(\n",
    "    #     handles=handles,\n",
    "    #     labels=labels,\n",
    "    #     bbox_to_anchor=(0, 0.86+0.02, 1, 0.2),\n",
    "    #     loc=\"lower center\",\n",
    "    #     # mode=\"expand\",\n",
    "    #     borderaxespad=1,\n",
    "    #     ncol=3,\n",
    "    #     frameon=False\n",
    "    # )\n",
    "\n",
    "sns.despine(trim=True)"
   ],
   "metadata": {
    "collapsed": false,
    "pycharm": {
     "name": "#%%\n"
    }
   }
  },
  {
   "cell_type": "markdown",
   "source": [
    "## Comparing encoders\n",
    "We now examine the ranks of encoders limited to decision trees, logistic regression, and all ML models.\n",
    "\n",
    "The left subplot shows the rank of encoders from the experiments with decision trees across all datasets, quality metrics, and tuning strategies.\n",
    "One-Hot is the best-performing encoder; however, Nemenyi tests at a significance level of 0.05 fail to reject that the average rank of One-Hot is the same as that of the other encoders.\n",
    "\n",
    "The central subplot features the encoder ranks for logistic regression, where four encoders, namely One-Hot, Sum, Binary, and Weight of Evidence, consistently achieve higher ranks compared to the others.\n",
    "Nemenyi tests confirm that this difference in ranks is significant.\n",
    "These results indicate low replicability of the results for decision trees and higher replicability for logistic regression.\n",
    "\n",
    "The right plot presents the ranks of encoders across all datasets, ML models, quality metrics, and tuning strategies.\n",
    "Similarly to logistic regression, One-Hot, Sum, Binary, and Weight of Evidence consistently achieve significantly higher average ranks compared to the other encoders, again confirmed by Nemenyi tests.\n",
    "We recommend these four encoders as the preferred choices in practical applications.\n",
    "This conclusion contradicts other studies reporting a suboptimal performance of One-Hot~\\cite{cerda_similarity_2018, pargent_regularized_2022}.\n",
    "\n",
    "Our findings also reveal that Drop performs significantly worse than all other encoders, i.e., encoding categorical attributes generally yields better results than dropping them."
   ],
   "metadata": {
    "collapsed": false,
    "pycharm": {
     "name": "#%% md\n"
    }
   }
  },
  {
   "cell_type": "code",
   "execution_count": null,
   "outputs": [],
   "source": [
    "rf = u.load_rf()\n",
    "\n",
    "rf_melt = rf.melt(ignore_index=False).reset_index()\n",
    "rf_melt.columns = [\"encoder\", \"dataset\", \"model\", \"tuning\", \"scoring\", \"rank\"]\n",
    "rf_melt.encoder = rf_melt.encoder.map(u.ENCODER_LATEX)\n",
    "\n",
    "sns.set(font_scale=0.8)\n",
    "sns.set_style(\"ticks\", {\"ytick.left\": False})\n",
    "mpl.rcParams['text.usetex'] = True\n",
    "mpl.rcParams['text.latex.preamble'] = r'\\usepackage{mathptmx}'\n",
    "mpl.rc('font', family='Times New Roman')\n",
    "\n",
    "\n",
    "fig, ax = plt.subplots(1, 1, figsize=(1.8, 4.4))\n",
    "ax = u.sorted_boxplot_horizontal(data=rf_melt, y=\"encoder\", x=\"rank\", order_by=\"mean\",\n",
    "                                 # palette=sns.light_palette(\"grey\", n_colors=len(rf.index)),\n",
    "                                 color=\"lightgrey\",\n",
    "                                 showfliers=False,\n",
    "                                 linewidth=1, showcaps=False,\n",
    "                                 showmeans=True,\n",
    "                                 meanprops={\"marker\": \"o\",\n",
    "                                            \"markeredgecolor\": \"red\",\n",
    "                                            \"markersize\": 2},\n",
    "                                 medianprops={\"linestyle\": \"-\"\n",
    "                                 },\n",
    "                                 ax=ax)\n",
    "ax.set(xlabel=None, ylabel=None)\n",
    "ax.set_xlim(0, 32)\n",
    "ax.set_xticks([0, 10, 20, 30])\n",
    "ax.grid(axis=\"x\", zorder=-1, linewidth=0.4)\n",
    "# ax.set_title(\"(c) All models\")\n",
    "\n",
    "sns.despine(left=True, trim=True)\n",
    "plt.tight_layout(w_pad=0.5)"
   ],
   "metadata": {
    "collapsed": false,
    "pycharm": {
     "name": "#%%\n"
    }
   }
  },
  {
   "cell_type": "code",
   "execution_count": null,
   "outputs": [],
   "source": [
    "rf = u.load_rf()\n",
    "\n",
    "model = \"KNC\"\n",
    "rf = rf.loc(axis=1)[:, model, :, :]\n",
    "\n",
    "rf_melt = rf.melt(ignore_index=False).reset_index()\n",
    "rf_melt.columns = [\"encoder\", \"dataset\", \"model\", \"tuning\", \"scoring\", \"rank\"]\n",
    "rf_melt.encoder = rf_melt.encoder.map(u.ENCODER_LATEX)\n",
    "\n",
    "sns.set(font_scale=0.8)\n",
    "sns.set_style(\"ticks\", {\"ytick.left\": False})\n",
    "mpl.rcParams['text.usetex'] = True\n",
    "mpl.rcParams['text.latex.preamble'] = r'\\usepackage{mathptmx}'\n",
    "mpl.rc('font', family='Times New Roman')\n",
    "\n",
    "\n",
    "fig, ax = plt.subplots(1, 1, figsize=(1.8, 4.4))\n",
    "ax = u.sorted_boxplot_horizontal(data=rf_melt, y=\"encoder\", x=\"rank\", order_by=\"mean\",\n",
    "                                 # palette=sns.light_palette(\"grey\", n_colors=len(rf.index)),\n",
    "                                 color=\"lightgrey\",\n",
    "                                 showfliers=False,\n",
    "                                 linewidth=1, showcaps=False,\n",
    "                                 showmeans=True,\n",
    "                                 meanprops={\"marker\": \"o\",\n",
    "                                            \"markeredgecolor\": \"red\",\n",
    "                                            \"markersize\": 2},\n",
    "                                 medianprops={\"linestyle\": \"-\"\n",
    "                                 },\n",
    "                                 ax=ax)\n",
    "ax.set(xlabel=None, ylabel=None)\n",
    "ax.set_xlim(0, 32)\n",
    "ax.set_xticks([0, 10, 20, 30])\n",
    "ax.grid(axis=\"x\", zorder=-1, linewidth=0.4)\n",
    "\n",
    "sns.despine(left=True, trim=True)\n",
    "plt.tight_layout(w_pad=0.5)"
   ],
   "metadata": {
    "collapsed": false,
    "pycharm": {
     "name": "#%%\n"
    }
   }
  }
 ],
 "metadata": {
  "kernelspec": {
   "display_name": "Python 3",
   "language": "python",
   "name": "python3"
  },
  "language_info": {
   "codemirror_mode": {
    "name": "ipython",
    "version": 2
   },
   "file_extension": ".py",
   "mimetype": "text/x-python",
   "name": "python",
   "nbconvert_exporter": "python",
   "pygments_lexer": "ipython2",
   "version": "2.7.6"
  }
 },
 "nbformat": 4,
 "nbformat_minor": 0
}